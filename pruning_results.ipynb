{
 "cells": [
  {
   "cell_type": "code",
   "execution_count": 1,
   "metadata": {},
   "outputs": [],
   "source": [
    "import os\n",
    "\n",
    "import torch\n",
    "import torch.nn.utils.prune as prune\n",
    "import torchvision\n",
    "import torchvision.transforms as transforms\n",
    "from torchsummary import summary\n",
    "\n",
    "from models import *\n",
    "from pruning_methods import *\n",
    "\n",
    "import pandas as pd\n",
    "import numpy as np\n",
    "\n",
    "from tqdm import tqdm\n",
    "import seaborn as sns"
   ]
  },
  {
   "cell_type": "markdown",
   "metadata": {},
   "source": [
    "### Prepare test data"
   ]
  },
  {
   "cell_type": "code",
   "execution_count": 2,
   "metadata": {},
   "outputs": [
    {
     "name": "stdout",
     "output_type": "stream",
     "text": [
      "Files already downloaded and verified\n"
     ]
    }
   ],
   "source": [
    "transform_test = transforms.Compose([\n",
    "    transforms.ToTensor(),\n",
    "    transforms.Normalize((0.4914, 0.4822, 0.4465), (0.2023, 0.1994, 0.2010)),\n",
    "])\n",
    "\n",
    "testset = torchvision.datasets.CIFAR10(\n",
    "    root='./data', train=False, download=True, transform=transform_test)\n",
    "testloader = torch.utils.data.DataLoader(\n",
    "    testset, batch_size=100, shuffle=False, num_workers=2)"
   ]
  },
  {
   "cell_type": "markdown",
   "metadata": {},
   "source": [
    "### Load pre-trained model and check params"
   ]
  },
  {
   "cell_type": "code",
   "execution_count": 3,
   "metadata": {},
   "outputs": [
    {
     "name": "stdout",
     "output_type": "stream",
     "text": [
      "==> Loading from checkpoint..\n",
      "Loaded checkpoint w accuracy 92.92 %\n"
     ]
    }
   ],
   "source": [
    "device = 'cuda' if torch.cuda.is_available() else 'cpu'\n",
    "net = ResNet20()\n",
    "net = net.to(device)\n",
    "\n",
    "print('==> Loading from checkpoint..')\n",
    "assert os.path.isdir('checkpoint'), 'Error: no checkpoint directory found!'\n",
    "checkpoint = torch.load('./checkpoint/ckpt.pth')\n",
    "net.load_state_dict(checkpoint['net'])\n",
    "best_acc = checkpoint['acc']\n",
    "start_epoch = checkpoint['epoch']\n",
    "net = net.to(device)\n",
    "print(\"Loaded checkpoint w accuracy\", best_acc, \"%\")"
   ]
  },
  {
   "cell_type": "code",
   "execution_count": 4,
   "metadata": {
    "scrolled": true
   },
   "outputs": [
    {
     "data": {
      "text/plain": [
       "<bound method Module.children of ResNet(\n",
       "  (conv1): Conv2d(3, 16, kernel_size=(3, 3), stride=(1, 1), padding=(1, 1), bias=False)\n",
       "  (bn1): BatchNorm2d(16, eps=1e-05, momentum=0.1, affine=True, track_running_stats=True)\n",
       "  (layer1): Sequential(\n",
       "    (0): BasicBlock(\n",
       "      (conv1): Conv2d(16, 16, kernel_size=(3, 3), stride=(1, 1), padding=(1, 1), bias=False)\n",
       "      (bn1): BatchNorm2d(16, eps=1e-05, momentum=0.1, affine=True, track_running_stats=True)\n",
       "      (conv2): Conv2d(16, 16, kernel_size=(3, 3), stride=(1, 1), padding=(1, 1), bias=False)\n",
       "      (bn2): BatchNorm2d(16, eps=1e-05, momentum=0.1, affine=True, track_running_stats=True)\n",
       "      (shortcut): Sequential()\n",
       "    )\n",
       "    (1): BasicBlock(\n",
       "      (conv1): Conv2d(16, 16, kernel_size=(3, 3), stride=(1, 1), padding=(1, 1), bias=False)\n",
       "      (bn1): BatchNorm2d(16, eps=1e-05, momentum=0.1, affine=True, track_running_stats=True)\n",
       "      (conv2): Conv2d(16, 16, kernel_size=(3, 3), stride=(1, 1), padding=(1, 1), bias=False)\n",
       "      (bn2): BatchNorm2d(16, eps=1e-05, momentum=0.1, affine=True, track_running_stats=True)\n",
       "      (shortcut): Sequential()\n",
       "    )\n",
       "    (2): BasicBlock(\n",
       "      (conv1): Conv2d(16, 16, kernel_size=(3, 3), stride=(1, 1), padding=(1, 1), bias=False)\n",
       "      (bn1): BatchNorm2d(16, eps=1e-05, momentum=0.1, affine=True, track_running_stats=True)\n",
       "      (conv2): Conv2d(16, 16, kernel_size=(3, 3), stride=(1, 1), padding=(1, 1), bias=False)\n",
       "      (bn2): BatchNorm2d(16, eps=1e-05, momentum=0.1, affine=True, track_running_stats=True)\n",
       "      (shortcut): Sequential()\n",
       "    )\n",
       "  )\n",
       "  (layer2): Sequential(\n",
       "    (0): BasicBlock(\n",
       "      (conv1): Conv2d(16, 32, kernel_size=(3, 3), stride=(2, 2), padding=(1, 1), bias=False)\n",
       "      (bn1): BatchNorm2d(32, eps=1e-05, momentum=0.1, affine=True, track_running_stats=True)\n",
       "      (conv2): Conv2d(32, 32, kernel_size=(3, 3), stride=(1, 1), padding=(1, 1), bias=False)\n",
       "      (bn2): BatchNorm2d(32, eps=1e-05, momentum=0.1, affine=True, track_running_stats=True)\n",
       "      (shortcut): LambdaLayer()\n",
       "    )\n",
       "    (1): BasicBlock(\n",
       "      (conv1): Conv2d(32, 32, kernel_size=(3, 3), stride=(1, 1), padding=(1, 1), bias=False)\n",
       "      (bn1): BatchNorm2d(32, eps=1e-05, momentum=0.1, affine=True, track_running_stats=True)\n",
       "      (conv2): Conv2d(32, 32, kernel_size=(3, 3), stride=(1, 1), padding=(1, 1), bias=False)\n",
       "      (bn2): BatchNorm2d(32, eps=1e-05, momentum=0.1, affine=True, track_running_stats=True)\n",
       "      (shortcut): Sequential()\n",
       "    )\n",
       "    (2): BasicBlock(\n",
       "      (conv1): Conv2d(32, 32, kernel_size=(3, 3), stride=(1, 1), padding=(1, 1), bias=False)\n",
       "      (bn1): BatchNorm2d(32, eps=1e-05, momentum=0.1, affine=True, track_running_stats=True)\n",
       "      (conv2): Conv2d(32, 32, kernel_size=(3, 3), stride=(1, 1), padding=(1, 1), bias=False)\n",
       "      (bn2): BatchNorm2d(32, eps=1e-05, momentum=0.1, affine=True, track_running_stats=True)\n",
       "      (shortcut): Sequential()\n",
       "    )\n",
       "  )\n",
       "  (layer3): Sequential(\n",
       "    (0): BasicBlock(\n",
       "      (conv1): Conv2d(32, 64, kernel_size=(3, 3), stride=(2, 2), padding=(1, 1), bias=False)\n",
       "      (bn1): BatchNorm2d(64, eps=1e-05, momentum=0.1, affine=True, track_running_stats=True)\n",
       "      (conv2): Conv2d(64, 64, kernel_size=(3, 3), stride=(1, 1), padding=(1, 1), bias=False)\n",
       "      (bn2): BatchNorm2d(64, eps=1e-05, momentum=0.1, affine=True, track_running_stats=True)\n",
       "      (shortcut): LambdaLayer()\n",
       "    )\n",
       "    (1): BasicBlock(\n",
       "      (conv1): Conv2d(64, 64, kernel_size=(3, 3), stride=(1, 1), padding=(1, 1), bias=False)\n",
       "      (bn1): BatchNorm2d(64, eps=1e-05, momentum=0.1, affine=True, track_running_stats=True)\n",
       "      (conv2): Conv2d(64, 64, kernel_size=(3, 3), stride=(1, 1), padding=(1, 1), bias=False)\n",
       "      (bn2): BatchNorm2d(64, eps=1e-05, momentum=0.1, affine=True, track_running_stats=True)\n",
       "      (shortcut): Sequential()\n",
       "    )\n",
       "    (2): BasicBlock(\n",
       "      (conv1): Conv2d(64, 64, kernel_size=(3, 3), stride=(1, 1), padding=(1, 1), bias=False)\n",
       "      (bn1): BatchNorm2d(64, eps=1e-05, momentum=0.1, affine=True, track_running_stats=True)\n",
       "      (conv2): Conv2d(64, 64, kernel_size=(3, 3), stride=(1, 1), padding=(1, 1), bias=False)\n",
       "      (bn2): BatchNorm2d(64, eps=1e-05, momentum=0.1, affine=True, track_running_stats=True)\n",
       "      (shortcut): Sequential()\n",
       "    )\n",
       "  )\n",
       "  (linear): Linear(in_features=64, out_features=10, bias=True)\n",
       ")>"
      ]
     },
     "execution_count": 4,
     "metadata": {},
     "output_type": "execute_result"
    }
   ],
   "source": [
    "net.children"
   ]
  },
  {
   "cell_type": "code",
   "execution_count": 5,
   "metadata": {
    "scrolled": true
   },
   "outputs": [
    {
     "name": "stdout",
     "output_type": "stream",
     "text": [
      "----------------------------------------------------------------\n",
      "        Layer (type)               Output Shape         Param #\n",
      "================================================================\n",
      "            Conv2d-1           [-1, 16, 32, 32]             432\n",
      "       BatchNorm2d-2           [-1, 16, 32, 32]              32\n",
      "            Conv2d-3           [-1, 16, 32, 32]           2,304\n",
      "       BatchNorm2d-4           [-1, 16, 32, 32]              32\n",
      "            Conv2d-5           [-1, 16, 32, 32]           2,304\n",
      "       BatchNorm2d-6           [-1, 16, 32, 32]              32\n",
      "        BasicBlock-7           [-1, 16, 32, 32]               0\n",
      "            Conv2d-8           [-1, 16, 32, 32]           2,304\n",
      "       BatchNorm2d-9           [-1, 16, 32, 32]              32\n",
      "           Conv2d-10           [-1, 16, 32, 32]           2,304\n",
      "      BatchNorm2d-11           [-1, 16, 32, 32]              32\n",
      "       BasicBlock-12           [-1, 16, 32, 32]               0\n",
      "           Conv2d-13           [-1, 16, 32, 32]           2,304\n",
      "      BatchNorm2d-14           [-1, 16, 32, 32]              32\n",
      "           Conv2d-15           [-1, 16, 32, 32]           2,304\n",
      "      BatchNorm2d-16           [-1, 16, 32, 32]              32\n",
      "       BasicBlock-17           [-1, 16, 32, 32]               0\n",
      "           Conv2d-18           [-1, 32, 16, 16]           4,608\n",
      "      BatchNorm2d-19           [-1, 32, 16, 16]              64\n",
      "           Conv2d-20           [-1, 32, 16, 16]           9,216\n",
      "      BatchNorm2d-21           [-1, 32, 16, 16]              64\n",
      "      LambdaLayer-22           [-1, 32, 16, 16]               0\n",
      "       BasicBlock-23           [-1, 32, 16, 16]               0\n",
      "           Conv2d-24           [-1, 32, 16, 16]           9,216\n",
      "      BatchNorm2d-25           [-1, 32, 16, 16]              64\n",
      "           Conv2d-26           [-1, 32, 16, 16]           9,216\n",
      "      BatchNorm2d-27           [-1, 32, 16, 16]              64\n",
      "       BasicBlock-28           [-1, 32, 16, 16]               0\n",
      "           Conv2d-29           [-1, 32, 16, 16]           9,216\n",
      "      BatchNorm2d-30           [-1, 32, 16, 16]              64\n",
      "           Conv2d-31           [-1, 32, 16, 16]           9,216\n",
      "      BatchNorm2d-32           [-1, 32, 16, 16]              64\n",
      "       BasicBlock-33           [-1, 32, 16, 16]               0\n",
      "           Conv2d-34             [-1, 64, 8, 8]          18,432\n",
      "      BatchNorm2d-35             [-1, 64, 8, 8]             128\n",
      "           Conv2d-36             [-1, 64, 8, 8]          36,864\n",
      "      BatchNorm2d-37             [-1, 64, 8, 8]             128\n",
      "      LambdaLayer-38             [-1, 64, 8, 8]               0\n",
      "       BasicBlock-39             [-1, 64, 8, 8]               0\n",
      "           Conv2d-40             [-1, 64, 8, 8]          36,864\n",
      "      BatchNorm2d-41             [-1, 64, 8, 8]             128\n",
      "           Conv2d-42             [-1, 64, 8, 8]          36,864\n",
      "      BatchNorm2d-43             [-1, 64, 8, 8]             128\n",
      "       BasicBlock-44             [-1, 64, 8, 8]               0\n",
      "           Conv2d-45             [-1, 64, 8, 8]          36,864\n",
      "      BatchNorm2d-46             [-1, 64, 8, 8]             128\n",
      "           Conv2d-47             [-1, 64, 8, 8]          36,864\n",
      "      BatchNorm2d-48             [-1, 64, 8, 8]             128\n",
      "       BasicBlock-49             [-1, 64, 8, 8]               0\n",
      "           Linear-50                   [-1, 10]             650\n",
      "================================================================\n",
      "Total params: 269,722\n",
      "Trainable params: 269,722\n",
      "Non-trainable params: 0\n",
      "----------------------------------------------------------------\n",
      "Input size (MB): 0.01\n",
      "Forward/backward pass size (MB): 3.63\n",
      "Params size (MB): 1.03\n",
      "Estimated Total Size (MB): 4.67\n",
      "----------------------------------------------------------------\n"
     ]
    }
   ],
   "source": [
    "summary(net, (3, 32, 32))"
   ]
  },
  {
   "cell_type": "markdown",
   "metadata": {},
   "source": [
    "### Helper methods to run experiments"
   ]
  },
  {
   "cell_type": "code",
   "execution_count": 6,
   "metadata": {
    "scrolled": true
   },
   "outputs": [],
   "source": [
    "#we will use K-means clustering method for now\n",
    "custom_pruner = KMeansPruner()\n",
    "    \n",
    "def prune_net(net, amount, i):\n",
    "    num_pruned_params = 0\n",
    "    convl = 0 #index needed to use amount array\n",
    "    \n",
    "    for name, module in net.named_modules():\n",
    "        if isinstance(module, torch.nn.Conv2d) and ('layer' in name):\n",
    "            \n",
    "#             #make net reset weights to not cluster centroids \n",
    "#             #and not to sum masks\n",
    "#             if i > 0:\n",
    "#                 module.weight.data = module.weight_orig.data\n",
    "#                 module.weight_mask.data = torch.ones_like(module.weight_mask).data\n",
    "\n",
    "            #get mask and centroided weights\n",
    "            mask, new_weights = custom_pruner.get_masks_and_centroids(\n",
    "                module.weight, \n",
    "                module.weight.shape[0] - amount[convl])\n",
    "\n",
    "            #prune using torch built-in method\n",
    "            prune.custom_from_mask(module, \"weight\", mask)\n",
    "        \n",
    "            module.weight.data = new_weights.data\n",
    "            \n",
    "            num_pruned_params += (len(module.weight.flatten()) - \n",
    "                                  len(module.weight_mask.flatten().nonzero()))            \n",
    "            convl += 1\n",
    "\n",
    "    return num_pruned_params\n",
    "\n",
    "\n",
    "def reload_net(device='cpu', checkpoint_path='./checkpoint/ckpt.pth'):\n",
    "    net = ResNet20()\n",
    "    net = net.to(device)\n",
    "    \n",
    "    checkpoint = torch.load(checkpoint_path)\n",
    "    \n",
    "    net.load_state_dict(checkpoint['net'])\n",
    "    net = net.to(device)\n",
    "    return net"
   ]
  },
  {
   "cell_type": "code",
   "execution_count": 7,
   "metadata": {},
   "outputs": [],
   "source": [
    "criterion = torch.nn.CrossEntropyLoss()\n",
    "\n",
    "def test(net, epoch):\n",
    "    global best_acc\n",
    "    net.eval()\n",
    "    test_loss = 0\n",
    "    correct = 0\n",
    "    total = 0\n",
    "    with torch.no_grad():\n",
    "        with tqdm(testloader, unit=\"batch\") as tepoch:\n",
    "            for batch_idx, (inputs, targets) in enumerate(tepoch):\n",
    "                inputs, targets = inputs.to(device), targets.to(device)\n",
    "                outputs = net(inputs)\n",
    "                loss = criterion(outputs, targets)\n",
    "\n",
    "                test_loss += loss.item()\n",
    "                _, predicted = outputs.max(1)\n",
    "                total += targets.size(0)\n",
    "                correct += predicted.eq(targets).sum().item()\n",
    "\n",
    "                tepoch.set_postfix(loss=test_loss/(batch_idx+1), \n",
    "                                   accuracy=correct/total)\n",
    "    return correct/total"
   ]
  },
  {
   "cell_type": "code",
   "execution_count": 8,
   "metadata": {},
   "outputs": [],
   "source": [
    "def run_experiment(net, amount_to_prune, i):\n",
    "    net = reload_net()\n",
    "    num_pruned_params = prune_net(net, amount_to_prune, i)\n",
    "    accuracy = test(net, start_epoch)\n",
    "    return num_pruned_params, accuracy\n",
    "\n",
    "\n",
    "def show_results(results, total_params=269722):\n",
    "    results[\"perc_pruned_params\"] = results[\"number_pruned_params\"] / total_params\n",
    "    sns.lineplot(data=results, x=\"perc_pruned_params\", y=(\"accuracy\"))\n",
    "    return results"
   ]
  },
  {
   "cell_type": "markdown",
   "metadata": {},
   "source": [
    "### Experiment 1\n",
    "\n",
    "В первом эксперименте посмотрим, как влияет прунинг на сеть, если количество кластеров выбирается как доля от количества фильтров в каждом слое. Предварительные тесты показали, что лучше брать значения доли <=0.1-0.2, так как в противном случае точность падает слишком сильно"
   ]
  },
  {
   "cell_type": "code",
   "execution_count": 19,
   "metadata": {
    "scrolled": true
   },
   "outputs": [
    {
     "name": "stdout",
     "output_type": "stream",
     "text": [
      "# of filters to prune for each layer: [0 0 0 0 0 0 0 0 0 0 0 0 0 0 0 0 0 0]\n"
     ]
    },
    {
     "name": "stderr",
     "output_type": "stream",
     "text": [
      "  0%|                                                | 0/100 [00:00<?, ?batch/s][W ParallelNative.cpp:212] Warning: Cannot set number of intraop threads after parallel work has started or after set_num_threads call when using native parallel backend (function set_num_threads)\n",
      "[W ParallelNative.cpp:212] Warning: Cannot set number of intraop threads after parallel work has started or after set_num_threads call when using native parallel backend (function set_num_threads)\n",
      "100%|██████████| 100/100 [00:22<00:00,  4.43batch/s, accuracy=0.929, loss=0.265]\n"
     ]
    },
    {
     "name": "stdout",
     "output_type": "stream",
     "text": [
      "# of filters to prune for each layer: [0 0 0 0 0 0 0 0 0 0 0 0 1 1 1 1 1 1]\n"
     ]
    },
    {
     "name": "stderr",
     "output_type": "stream",
     "text": [
      "  0%|                                                | 0/100 [00:00<?, ?batch/s][W ParallelNative.cpp:212] Warning: Cannot set number of intraop threads after parallel work has started or after set_num_threads call when using native parallel backend (function set_num_threads)\n",
      "[W ParallelNative.cpp:212] Warning: Cannot set number of intraop threads after parallel work has started or after set_num_threads call when using native parallel backend (function set_num_threads)\n",
      "100%|██████████| 100/100 [00:23<00:00,  4.35batch/s, accuracy=0.793, loss=0.882]\n"
     ]
    },
    {
     "name": "stdout",
     "output_type": "stream",
     "text": [
      "# of filters to prune for each layer: [0 0 0 0 0 0 1 1 1 1 1 1 3 3 3 3 3 3]\n"
     ]
    },
    {
     "name": "stderr",
     "output_type": "stream",
     "text": [
      "  0%|                                                | 0/100 [00:00<?, ?batch/s][W ParallelNative.cpp:212] Warning: Cannot set number of intraop threads after parallel work has started or after set_num_threads call when using native parallel backend (function set_num_threads)\n",
      "[W ParallelNative.cpp:212] Warning: Cannot set number of intraop threads after parallel work has started or after set_num_threads call when using native parallel backend (function set_num_threads)\n",
      "100%|███████████| 100/100 [00:23<00:00,  4.32batch/s, accuracy=0.713, loss=0.91]\n"
     ]
    },
    {
     "name": "stdout",
     "output_type": "stream",
     "text": [
      "# of filters to prune for each layer: [1 1 1 1 1 1 2 2 2 2 2 2 4 4 4 4 4 4]\n"
     ]
    },
    {
     "name": "stderr",
     "output_type": "stream",
     "text": [
      "  0%|                                                | 0/100 [00:00<?, ?batch/s][W ParallelNative.cpp:212] Warning: Cannot set number of intraop threads after parallel work has started or after set_num_threads call when using native parallel backend (function set_num_threads)\n",
      "[W ParallelNative.cpp:212] Warning: Cannot set number of intraop threads after parallel work has started or after set_num_threads call when using native parallel backend (function set_num_threads)\n",
      "100%|███████████| 100/100 [00:23<00:00,  4.32batch/s, accuracy=0.499, loss=1.72]\n"
     ]
    },
    {
     "name": "stdout",
     "output_type": "stream",
     "text": [
      "# of filters to prune for each layer: [1 1 1 1 1 1 3 3 3 3 3 3 6 6 6 6 6 6]\n"
     ]
    },
    {
     "name": "stderr",
     "output_type": "stream",
     "text": [
      "  0%|                                                | 0/100 [00:00<?, ?batch/s][W ParallelNative.cpp:212] Warning: Cannot set number of intraop threads after parallel work has started or after set_num_threads call when using native parallel backend (function set_num_threads)\n",
      "[W ParallelNative.cpp:212] Warning: Cannot set number of intraop threads after parallel work has started or after set_num_threads call when using native parallel backend (function set_num_threads)\n",
      "100%|███████████| 100/100 [00:22<00:00,  4.36batch/s, accuracy=0.586, loss=1.82]\n"
     ]
    },
    {
     "name": "stdout",
     "output_type": "stream",
     "text": [
      "# of filters to prune for each layer: [2 2 2 2 2 2 4 4 4 4 4 4 8 8 8 8 8 8]\n"
     ]
    },
    {
     "name": "stderr",
     "output_type": "stream",
     "text": [
      "  0%|                                                | 0/100 [00:00<?, ?batch/s][W ParallelNative.cpp:212] Warning: Cannot set number of intraop threads after parallel work has started or after set_num_threads call when using native parallel backend (function set_num_threads)\n",
      "[W ParallelNative.cpp:212] Warning: Cannot set number of intraop threads after parallel work has started or after set_num_threads call when using native parallel backend (function set_num_threads)\n",
      "100%|███████████| 100/100 [00:22<00:00,  4.40batch/s, accuracy=0.175, loss=5.11]\n"
     ]
    },
    {
     "name": "stdout",
     "output_type": "stream",
     "text": [
      "# of filters to prune for each layer: [2 2 2 2 2 2 4 4 4 4 4 4 9 9 9 9 9 9]\n"
     ]
    },
    {
     "name": "stderr",
     "output_type": "stream",
     "text": [
      "  0%|                                                | 0/100 [00:00<?, ?batch/s][W ParallelNative.cpp:212] Warning: Cannot set number of intraop threads after parallel work has started or after set_num_threads call when using native parallel backend (function set_num_threads)\n",
      "[W ParallelNative.cpp:212] Warning: Cannot set number of intraop threads after parallel work has started or after set_num_threads call when using native parallel backend (function set_num_threads)\n",
      "100%|███████████| 100/100 [00:23<00:00,  4.31batch/s, accuracy=0.305, loss=2.26]\n"
     ]
    },
    {
     "name": "stdout",
     "output_type": "stream",
     "text": [
      "# of filters to prune for each layer: [ 2  2  2  2  2  2  5  5  5  5  5  5 11 11 11 11 11 11]\n"
     ]
    },
    {
     "name": "stderr",
     "output_type": "stream",
     "text": [
      "  0%|                                                | 0/100 [00:00<?, ?batch/s][W ParallelNative.cpp:212] Warning: Cannot set number of intraop threads after parallel work has started or after set_num_threads call when using native parallel backend (function set_num_threads)\n",
      "[W ParallelNative.cpp:212] Warning: Cannot set number of intraop threads after parallel work has started or after set_num_threads call when using native parallel backend (function set_num_threads)\n",
      "100%|████████████| 100/100 [00:22<00:00,  4.39batch/s, accuracy=0.243, loss=2.3]\n"
     ]
    },
    {
     "name": "stdout",
     "output_type": "stream",
     "text": [
      "# of filters to prune for each layer: [ 3  3  3  3  3  3  6  6  6  6  6  6 12 12 12 12 12 12]\n"
     ]
    },
    {
     "name": "stderr",
     "output_type": "stream",
     "text": [
      "  0%|                                                | 0/100 [00:00<?, ?batch/s][W ParallelNative.cpp:212] Warning: Cannot set number of intraop threads after parallel work has started or after set_num_threads call when using native parallel backend (function set_num_threads)\n",
      "[W ParallelNative.cpp:212] Warning: Cannot set number of intraop threads after parallel work has started or after set_num_threads call when using native parallel backend (function set_num_threads)\n",
      "100%|███████████| 100/100 [00:23<00:00,  4.32batch/s, accuracy=0.152, loss=4.15]\n"
     ]
    },
    {
     "name": "stdout",
     "output_type": "stream",
     "text": [
      "# of filters to prune for each layer: [ 3  3  3  3  3  3  7  7  7  7  7  7 14 14 14 14 14 14]\n"
     ]
    },
    {
     "name": "stderr",
     "output_type": "stream",
     "text": [
      "  0%|                                                | 0/100 [00:00<?, ?batch/s][W ParallelNative.cpp:212] Warning: Cannot set number of intraop threads after parallel work has started or after set_num_threads call when using native parallel backend (function set_num_threads)\n",
      "[W ParallelNative.cpp:212] Warning: Cannot set number of intraop threads after parallel work has started or after set_num_threads call when using native parallel backend (function set_num_threads)\n",
      "100%|███████████| 100/100 [00:23<00:00,  4.33batch/s, accuracy=0.112, loss=7.83]\n"
     ]
    }
   ],
   "source": [
    "results = pd.DataFrame(columns=[\"number_pruned_params\", \"accuracy\"])\n",
    "\n",
    "#массив из 18 значений, т.к. у нас 9 блоков по 2 сверточных слоя (3 по 16 фильтров, 3 - 32, 3 - 64)\n",
    "amount_to_prun = np.array([16] * 6 + [32] * 6 + [64] * 6)\n",
    "\n",
    "for i in range(10):\n",
    "    arr = (amount_to_prun * 0.025 * i).astype(int)\n",
    "    print(\"# of filters to prune for each layer:\", arr)\n",
    "    \n",
    "    results.loc[len(results)] = run_experiment(net, arr, i)"
   ]
  },
  {
   "cell_type": "code",
   "execution_count": 20,
   "metadata": {},
   "outputs": [
    {
     "data": {
      "text/html": [
       "<div>\n",
       "<style scoped>\n",
       "    .dataframe tbody tr th:only-of-type {\n",
       "        vertical-align: middle;\n",
       "    }\n",
       "\n",
       "    .dataframe tbody tr th {\n",
       "        vertical-align: top;\n",
       "    }\n",
       "\n",
       "    .dataframe thead th {\n",
       "        text-align: right;\n",
       "    }\n",
       "</style>\n",
       "<table border=\"1\" class=\"dataframe\">\n",
       "  <thead>\n",
       "    <tr style=\"text-align: right;\">\n",
       "      <th></th>\n",
       "      <th>number_pruned_params</th>\n",
       "      <th>accuracy</th>\n",
       "      <th>perc_pruned_params</th>\n",
       "    </tr>\n",
       "  </thead>\n",
       "  <tbody>\n",
       "    <tr>\n",
       "      <th>0</th>\n",
       "      <td>0.0</td>\n",
       "      <td>0.9292</td>\n",
       "      <td>0.000000</td>\n",
       "    </tr>\n",
       "    <tr>\n",
       "      <th>1</th>\n",
       "      <td>3168.0</td>\n",
       "      <td>0.7928</td>\n",
       "      <td>0.011745</td>\n",
       "    </tr>\n",
       "    <tr>\n",
       "      <th>2</th>\n",
       "      <td>11088.0</td>\n",
       "      <td>0.7125</td>\n",
       "      <td>0.041109</td>\n",
       "    </tr>\n",
       "    <tr>\n",
       "      <th>3</th>\n",
       "      <td>16704.0</td>\n",
       "      <td>0.4986</td>\n",
       "      <td>0.061930</td>\n",
       "    </tr>\n",
       "    <tr>\n",
       "      <th>4</th>\n",
       "      <td>24624.0</td>\n",
       "      <td>0.5857</td>\n",
       "      <td>0.091294</td>\n",
       "    </tr>\n",
       "    <tr>\n",
       "      <th>5</th>\n",
       "      <td>33408.0</td>\n",
       "      <td>0.1751</td>\n",
       "      <td>0.123861</td>\n",
       "    </tr>\n",
       "    <tr>\n",
       "      <th>6</th>\n",
       "      <td>36576.0</td>\n",
       "      <td>0.3048</td>\n",
       "      <td>0.135606</td>\n",
       "    </tr>\n",
       "    <tr>\n",
       "      <th>7</th>\n",
       "      <td>44496.0</td>\n",
       "      <td>0.2433</td>\n",
       "      <td>0.164970</td>\n",
       "    </tr>\n",
       "    <tr>\n",
       "      <th>8</th>\n",
       "      <td>50112.0</td>\n",
       "      <td>0.1520</td>\n",
       "      <td>0.185791</td>\n",
       "    </tr>\n",
       "    <tr>\n",
       "      <th>9</th>\n",
       "      <td>58032.0</td>\n",
       "      <td>0.1118</td>\n",
       "      <td>0.215155</td>\n",
       "    </tr>\n",
       "  </tbody>\n",
       "</table>\n",
       "</div>"
      ],
      "text/plain": [
       "   number_pruned_params  accuracy  perc_pruned_params\n",
       "0                   0.0    0.9292            0.000000\n",
       "1                3168.0    0.7928            0.011745\n",
       "2               11088.0    0.7125            0.041109\n",
       "3               16704.0    0.4986            0.061930\n",
       "4               24624.0    0.5857            0.091294\n",
       "5               33408.0    0.1751            0.123861\n",
       "6               36576.0    0.3048            0.135606\n",
       "7               44496.0    0.2433            0.164970\n",
       "8               50112.0    0.1520            0.185791\n",
       "9               58032.0    0.1118            0.215155"
      ]
     },
     "execution_count": 20,
     "metadata": {},
     "output_type": "execute_result"
    },
    {
     "data": {
      "image/png": "[encoded data removed]",
      "text/plain": [
       "<Figure size 432x288 with 1 Axes>"
      ]
     },
     "metadata": {
      "needs_background": "light"
     },
     "output_type": "display_data"
    }
   ],
   "source": [
    "show_results(results)"
   ]
  },
  {
   "cell_type": "markdown",
   "metadata": {},
   "source": [
    "Видно, что точность довольно сильно проседает даже при небольших обнулениях параметров "
   ]
  },
  {
   "cell_type": "markdown",
   "metadata": {},
   "source": [
    "### Experiment 2\n",
    "\n",
    "Теперь посмотрим, как влияет прунинг на сеть, если количество кластеров для всех слоев одинаково"
   ]
  },
  {
   "cell_type": "code",
   "execution_count": 13,
   "metadata": {
    "scrolled": true
   },
   "outputs": [
    {
     "name": "stdout",
     "output_type": "stream",
     "text": [
      "# of filters to prune for each layer: [0, 0, 0, 0, 0, 0, 0, 0, 0, 0, 0, 0, 0, 0, 0, 0, 0, 0]\n"
     ]
    },
    {
     "name": "stderr",
     "output_type": "stream",
     "text": [
      "  0%|                                                | 0/100 [00:00<?, ?batch/s][W ParallelNative.cpp:212] Warning: Cannot set number of intraop threads after parallel work has started or after set_num_threads call when using native parallel backend (function set_num_threads)\n",
      "[W ParallelNative.cpp:212] Warning: Cannot set number of intraop threads after parallel work has started or after set_num_threads call when using native parallel backend (function set_num_threads)\n",
      "100%|██████████| 100/100 [00:26<00:00,  3.83batch/s, accuracy=0.929, loss=0.265]\n"
     ]
    },
    {
     "name": "stdout",
     "output_type": "stream",
     "text": [
      "# of filters to prune for each layer: [1, 1, 1, 1, 1, 1, 1, 1, 1, 1, 1, 1, 1, 1, 1, 1, 1, 1]\n"
     ]
    },
    {
     "name": "stderr",
     "output_type": "stream",
     "text": [
      "  0%|                                                | 0/100 [00:00<?, ?batch/s][W ParallelNative.cpp:212] Warning: Cannot set number of intraop threads after parallel work has started or after set_num_threads call when using native parallel backend (function set_num_threads)\n",
      "[W ParallelNative.cpp:212] Warning: Cannot set number of intraop threads after parallel work has started or after set_num_threads call when using native parallel backend (function set_num_threads)\n",
      "100%|██████████| 100/100 [00:23<00:00,  4.31batch/s, accuracy=0.793, loss=0.893]\n"
     ]
    },
    {
     "name": "stdout",
     "output_type": "stream",
     "text": [
      "# of filters to prune for each layer: [2, 2, 2, 2, 2, 2, 2, 2, 2, 2, 2, 2, 2, 2, 2, 2, 2, 2]\n"
     ]
    },
    {
     "name": "stderr",
     "output_type": "stream",
     "text": [
      "  0%|                                                | 0/100 [00:00<?, ?batch/s][W ParallelNative.cpp:212] Warning: Cannot set number of intraop threads after parallel work has started or after set_num_threads call when using native parallel backend (function set_num_threads)\n",
      "[W ParallelNative.cpp:212] Warning: Cannot set number of intraop threads after parallel work has started or after set_num_threads call when using native parallel backend (function set_num_threads)\n",
      "100%|███████████| 100/100 [00:22<00:00,  4.35batch/s, accuracy=0.643, loss=1.79]\n"
     ]
    },
    {
     "name": "stdout",
     "output_type": "stream",
     "text": [
      "# of filters to prune for each layer: [3, 3, 3, 3, 3, 3, 3, 3, 3, 3, 3, 3, 3, 3, 3, 3, 3, 3]\n"
     ]
    },
    {
     "name": "stderr",
     "output_type": "stream",
     "text": [
      "  0%|                                                | 0/100 [00:00<?, ?batch/s][W ParallelNative.cpp:212] Warning: Cannot set number of intraop threads after parallel work has started or after set_num_threads call when using native parallel backend (function set_num_threads)\n",
      "[W ParallelNative.cpp:212] Warning: Cannot set number of intraop threads after parallel work has started or after set_num_threads call when using native parallel backend (function set_num_threads)\n",
      "100%|████████████| 100/100 [00:24<00:00,  4.07batch/s, accuracy=0.449, loss=2.2]\n"
     ]
    },
    {
     "name": "stdout",
     "output_type": "stream",
     "text": [
      "# of filters to prune for each layer: [4, 4, 4, 4, 4, 4, 4, 4, 4, 4, 4, 4, 4, 4, 4, 4, 4, 4]\n"
     ]
    },
    {
     "name": "stderr",
     "output_type": "stream",
     "text": [
      "  0%|                                                | 0/100 [00:00<?, ?batch/s][W ParallelNative.cpp:212] Warning: Cannot set number of intraop threads after parallel work has started or after set_num_threads call when using native parallel backend (function set_num_threads)\n",
      "[W ParallelNative.cpp:212] Warning: Cannot set number of intraop threads after parallel work has started or after set_num_threads call when using native parallel backend (function set_num_threads)\n",
      "100%|███████████| 100/100 [00:22<00:00,  4.39batch/s, accuracy=0.143, loss=7.39]\n"
     ]
    },
    {
     "name": "stdout",
     "output_type": "stream",
     "text": [
      "# of filters to prune for each layer: [5, 5, 5, 5, 5, 5, 5, 5, 5, 5, 5, 5, 5, 5, 5, 5, 5, 5]\n"
     ]
    },
    {
     "name": "stderr",
     "output_type": "stream",
     "text": [
      "  0%|                                                | 0/100 [00:00<?, ?batch/s][W ParallelNative.cpp:212] Warning: Cannot set number of intraop threads after parallel work has started or after set_num_threads call when using native parallel backend (function set_num_threads)\n",
      "[W ParallelNative.cpp:212] Warning: Cannot set number of intraop threads after parallel work has started or after set_num_threads call when using native parallel backend (function set_num_threads)\n",
      "100%|███████████| 100/100 [00:22<00:00,  4.40batch/s, accuracy=0.264, loss=3.85]\n"
     ]
    },
    {
     "name": "stdout",
     "output_type": "stream",
     "text": [
      "# of filters to prune for each layer: [6, 6, 6, 6, 6, 6, 6, 6, 6, 6, 6, 6, 6, 6, 6, 6, 6, 6]\n"
     ]
    },
    {
     "name": "stderr",
     "output_type": "stream",
     "text": [
      "  0%|                                                | 0/100 [00:00<?, ?batch/s][W ParallelNative.cpp:212] Warning: Cannot set number of intraop threads after parallel work has started or after set_num_threads call when using native parallel backend (function set_num_threads)\n",
      "[W ParallelNative.cpp:212] Warning: Cannot set number of intraop threads after parallel work has started or after set_num_threads call when using native parallel backend (function set_num_threads)\n",
      "100%|███████████| 100/100 [00:27<00:00,  3.61batch/s, accuracy=0.184, loss=7.82]\n"
     ]
    },
    {
     "name": "stdout",
     "output_type": "stream",
     "text": [
      "# of filters to prune for each layer: [7, 7, 7, 7, 7, 7, 7, 7, 7, 7, 7, 7, 7, 7, 7, 7, 7, 7]\n"
     ]
    },
    {
     "name": "stderr",
     "output_type": "stream",
     "text": [
      "  0%|                                                | 0/100 [00:00<?, ?batch/s][W ParallelNative.cpp:212] Warning: Cannot set number of intraop threads after parallel work has started or after set_num_threads call when using native parallel backend (function set_num_threads)\n",
      "[W ParallelNative.cpp:212] Warning: Cannot set number of intraop threads after parallel work has started or after set_num_threads call when using native parallel backend (function set_num_threads)\n",
      "100%|████████████| 100/100 [00:22<00:00,  4.40batch/s, accuracy=0.117, loss=7.9]\n"
     ]
    },
    {
     "name": "stdout",
     "output_type": "stream",
     "text": [
      "# of filters to prune for each layer: [8, 8, 8, 8, 8, 8, 8, 8, 8, 8, 8, 8, 8, 8, 8, 8, 8, 8]\n"
     ]
    },
    {
     "name": "stderr",
     "output_type": "stream",
     "text": [
      "  0%|                                                | 0/100 [00:00<?, ?batch/s][W ParallelNative.cpp:212] Warning: Cannot set number of intraop threads after parallel work has started or after set_num_threads call when using native parallel backend (function set_num_threads)\n",
      "[W ParallelNative.cpp:212] Warning: Cannot set number of intraop threads after parallel work has started or after set_num_threads call when using native parallel backend (function set_num_threads)\n",
      "100%|███████████| 100/100 [00:22<00:00,  4.38batch/s, accuracy=0.134, loss=6.22]\n"
     ]
    },
    {
     "name": "stdout",
     "output_type": "stream",
     "text": [
      "# of filters to prune for each layer: [9, 9, 9, 9, 9, 9, 9, 9, 9, 9, 9, 9, 9, 9, 9, 9, 9, 9]\n"
     ]
    },
    {
     "name": "stderr",
     "output_type": "stream",
     "text": [
      "  0%|                                                | 0/100 [00:00<?, ?batch/s][W ParallelNative.cpp:212] Warning: Cannot set number of intraop threads after parallel work has started or after set_num_threads call when using native parallel backend (function set_num_threads)\n",
      "[W ParallelNative.cpp:212] Warning: Cannot set number of intraop threads after parallel work has started or after set_num_threads call when using native parallel backend (function set_num_threads)\n",
      "100%|███████████| 100/100 [00:22<00:00,  4.43batch/s, accuracy=0.105, loss=2.85]\n"
     ]
    }
   ],
   "source": [
    "results = pd.DataFrame(columns=[\"number_pruned_params\", \"accuracy\"])\n",
    "\n",
    "for i in range(10):\n",
    "    arr = [i*1] * 18\n",
    "    print(\"# of filters to prune for each layer:\", arr)\n",
    "    \n",
    "    results.loc[len(results)] = run_experiment(net, arr, i)"
   ]
  },
  {
   "cell_type": "code",
   "execution_count": 14,
   "metadata": {},
   "outputs": [
    {
     "data": {
      "text/html": [
       "<div>\n",
       "<style scoped>\n",
       "    .dataframe tbody tr th:only-of-type {\n",
       "        vertical-align: middle;\n",
       "    }\n",
       "\n",
       "    .dataframe tbody tr th {\n",
       "        vertical-align: top;\n",
       "    }\n",
       "\n",
       "    .dataframe thead th {\n",
       "        text-align: right;\n",
       "    }\n",
       "</style>\n",
       "<table border=\"1\" class=\"dataframe\">\n",
       "  <thead>\n",
       "    <tr style=\"text-align: right;\">\n",
       "      <th></th>\n",
       "      <th>number_pruned_params</th>\n",
       "      <th>accuracy</th>\n",
       "      <th>perc_pruned_params</th>\n",
       "    </tr>\n",
       "  </thead>\n",
       "  <tbody>\n",
       "    <tr>\n",
       "      <th>0</th>\n",
       "      <td>0.0</td>\n",
       "      <td>0.9292</td>\n",
       "      <td>0.000000</td>\n",
       "    </tr>\n",
       "    <tr>\n",
       "      <th>1</th>\n",
       "      <td>5616.0</td>\n",
       "      <td>0.7934</td>\n",
       "      <td>0.020821</td>\n",
       "    </tr>\n",
       "    <tr>\n",
       "      <th>2</th>\n",
       "      <td>11232.0</td>\n",
       "      <td>0.6426</td>\n",
       "      <td>0.041643</td>\n",
       "    </tr>\n",
       "    <tr>\n",
       "      <th>3</th>\n",
       "      <td>16848.0</td>\n",
       "      <td>0.4487</td>\n",
       "      <td>0.062464</td>\n",
       "    </tr>\n",
       "    <tr>\n",
       "      <th>4</th>\n",
       "      <td>22464.0</td>\n",
       "      <td>0.1429</td>\n",
       "      <td>0.083286</td>\n",
       "    </tr>\n",
       "    <tr>\n",
       "      <th>5</th>\n",
       "      <td>28080.0</td>\n",
       "      <td>0.2641</td>\n",
       "      <td>0.104107</td>\n",
       "    </tr>\n",
       "    <tr>\n",
       "      <th>6</th>\n",
       "      <td>33696.0</td>\n",
       "      <td>0.1838</td>\n",
       "      <td>0.124929</td>\n",
       "    </tr>\n",
       "    <tr>\n",
       "      <th>7</th>\n",
       "      <td>39312.0</td>\n",
       "      <td>0.1175</td>\n",
       "      <td>0.145750</td>\n",
       "    </tr>\n",
       "    <tr>\n",
       "      <th>8</th>\n",
       "      <td>44928.0</td>\n",
       "      <td>0.1335</td>\n",
       "      <td>0.166572</td>\n",
       "    </tr>\n",
       "    <tr>\n",
       "      <th>9</th>\n",
       "      <td>50544.0</td>\n",
       "      <td>0.1050</td>\n",
       "      <td>0.187393</td>\n",
       "    </tr>\n",
       "  </tbody>\n",
       "</table>\n",
       "</div>"
      ],
      "text/plain": [
       "   number_pruned_params  accuracy  perc_pruned_params\n",
       "0                   0.0    0.9292            0.000000\n",
       "1                5616.0    0.7934            0.020821\n",
       "2               11232.0    0.6426            0.041643\n",
       "3               16848.0    0.4487            0.062464\n",
       "4               22464.0    0.1429            0.083286\n",
       "5               28080.0    0.2641            0.104107\n",
       "6               33696.0    0.1838            0.124929\n",
       "7               39312.0    0.1175            0.145750\n",
       "8               44928.0    0.1335            0.166572\n",
       "9               50544.0    0.1050            0.187393"
      ]
     },
     "execution_count": 14,
     "metadata": {},
     "output_type": "execute_result"
    },
    {
     "data": {
      "image/png": "[encoded data removed]",
      "text/plain": [
       "<Figure size 432x288 with 1 Axes>"
      ]
     },
     "metadata": {
      "needs_background": "light"
     },
     "output_type": "display_data"
    }
   ],
   "source": [
    "show_results(results)"
   ]
  },
  {
   "cell_type": "markdown",
   "metadata": {},
   "source": [
    "Видно, что когда бОльшее влияние прунинг оказывает на первые слои, которые сами по себе меньше, точность  проседает еще сильнее\n",
    "\n",
    "### Experiment 3\n",
    "\n",
    "Теперь посмотрим, что будет, если со средних слоев удалять больше всего весов"
   ]
  },
  {
   "cell_type": "code",
   "execution_count": 28,
   "metadata": {
    "scrolled": true
   },
   "outputs": [
    {
     "name": "stdout",
     "output_type": "stream",
     "text": [
      "# of filters to prune for each layer: [0, 0, 0, 0, 0, 0, 0, 0, 0, 0, 0, 0, 0, 0, 0, 0, 0, 0]\n"
     ]
    },
    {
     "name": "stderr",
     "output_type": "stream",
     "text": [
      "  0%|                                                | 0/100 [00:00<?, ?batch/s][W ParallelNative.cpp:212] Warning: Cannot set number of intraop threads after parallel work has started or after set_num_threads call when using native parallel backend (function set_num_threads)\n",
      "[W ParallelNative.cpp:212] Warning: Cannot set number of intraop threads after parallel work has started or after set_num_threads call when using native parallel backend (function set_num_threads)\n",
      "100%|██████████| 100/100 [00:24<00:00,  4.07batch/s, accuracy=0.929, loss=0.265]\n"
     ]
    },
    {
     "name": "stdout",
     "output_type": "stream",
     "text": [
      "# of filters to prune for each layer: [0, 0, 0, 0, 1, 1, 1, 1, 2, 2, 1, 1, 1, 1, 0, 0, 0, 0]\n"
     ]
    },
    {
     "name": "stderr",
     "output_type": "stream",
     "text": [
      "  0%|                                                | 0/100 [00:00<?, ?batch/s][W ParallelNative.cpp:212] Warning: Cannot set number of intraop threads after parallel work has started or after set_num_threads call when using native parallel backend (function set_num_threads)\n",
      "[W ParallelNative.cpp:212] Warning: Cannot set number of intraop threads after parallel work has started or after set_num_threads call when using native parallel backend (function set_num_threads)\n",
      "100%|███████████| 100/100 [00:22<00:00,  4.36batch/s, accuracy=0.92, loss=0.296]\n"
     ]
    },
    {
     "name": "stdout",
     "output_type": "stream",
     "text": [
      "# of filters to prune for each layer: [0, 0, 1, 1, 2, 2, 3, 3, 4, 4, 3, 3, 2, 2, 1, 1, 0, 0]\n"
     ]
    },
    {
     "name": "stderr",
     "output_type": "stream",
     "text": [
      "  0%|                                                | 0/100 [00:00<?, ?batch/s][W ParallelNative.cpp:212] Warning: Cannot set number of intraop threads after parallel work has started or after set_num_threads call when using native parallel backend (function set_num_threads)\n",
      "[W ParallelNative.cpp:212] Warning: Cannot set number of intraop threads after parallel work has started or after set_num_threads call when using native parallel backend (function set_num_threads)\n",
      "100%|██████████| 100/100 [00:22<00:00,  4.37batch/s, accuracy=0.825, loss=0.768]\n"
     ]
    },
    {
     "name": "stdout",
     "output_type": "stream",
     "text": [
      "# of filters to prune for each layer: [0, 0, 1, 1, 3, 3, 4, 4, 6, 6, 4, 4, 3, 3, 1, 1, 0, 0]\n"
     ]
    },
    {
     "name": "stderr",
     "output_type": "stream",
     "text": [
      "  0%|                                                | 0/100 [00:00<?, ?batch/s][W ParallelNative.cpp:212] Warning: Cannot set number of intraop threads after parallel work has started or after set_num_threads call when using native parallel backend (function set_num_threads)\n",
      "[W ParallelNative.cpp:212] Warning: Cannot set number of intraop threads after parallel work has started or after set_num_threads call when using native parallel backend (function set_num_threads)\n",
      "100%|███████████| 100/100 [00:22<00:00,  4.37batch/s, accuracy=0.473, loss=2.61]\n"
     ]
    },
    {
     "name": "stdout",
     "output_type": "stream",
     "text": [
      "# of filters to prune for each layer: [0, 0, 2, 2, 4, 4, 6, 6, 8, 8, 6, 6, 4, 4, 2, 2, 0, 0]\n"
     ]
    },
    {
     "name": "stderr",
     "output_type": "stream",
     "text": [
      "  0%|                                                | 0/100 [00:00<?, ?batch/s][W ParallelNative.cpp:212] Warning: Cannot set number of intraop threads after parallel work has started or after set_num_threads call when using native parallel backend (function set_num_threads)\n",
      "[W ParallelNative.cpp:212] Warning: Cannot set number of intraop threads after parallel work has started or after set_num_threads call when using native parallel backend (function set_num_threads)\n",
      "100%|███████████| 100/100 [00:22<00:00,  4.41batch/s, accuracy=0.295, loss=4.52]\n"
     ]
    },
    {
     "name": "stdout",
     "output_type": "stream",
     "text": [
      "# of filters to prune for each layer: [0, 0, 2, 2, 5, 5, 7, 7, 10, 10, 7, 7, 5, 5, 2, 2, 0, 0]\n"
     ]
    },
    {
     "name": "stderr",
     "output_type": "stream",
     "text": [
      "  0%|                                                | 0/100 [00:00<?, ?batch/s][W ParallelNative.cpp:212] Warning: Cannot set number of intraop threads after parallel work has started or after set_num_threads call when using native parallel backend (function set_num_threads)\n",
      "[W ParallelNative.cpp:212] Warning: Cannot set number of intraop threads after parallel work has started or after set_num_threads call when using native parallel backend (function set_num_threads)\n",
      "100%|███████████| 100/100 [00:22<00:00,  4.37batch/s, accuracy=0.183, loss=7.78]\n"
     ]
    },
    {
     "name": "stdout",
     "output_type": "stream",
     "text": [
      "# of filters to prune for each layer: [0, 0, 3, 3, 6, 6, 9, 9, 12, 12, 9, 9, 6, 6, 3, 3, 0, 0]\n"
     ]
    },
    {
     "name": "stderr",
     "output_type": "stream",
     "text": [
      "  0%|                                                | 0/100 [00:00<?, ?batch/s][W ParallelNative.cpp:212] Warning: Cannot set number of intraop threads after parallel work has started or after set_num_threads call when using native parallel backend (function set_num_threads)\n",
      "[W ParallelNative.cpp:212] Warning: Cannot set number of intraop threads after parallel work has started or after set_num_threads call when using native parallel backend (function set_num_threads)\n",
      "100%|███████████| 100/100 [00:22<00:00,  4.42batch/s, accuracy=0.108, loss=8.68]\n"
     ]
    },
    {
     "name": "stdout",
     "output_type": "stream",
     "text": [
      "# of filters to prune for each layer: [0, 0, 3, 3, 7, 7, 10, 10, 14, 14, 10, 10, 7, 7, 3, 3, 0, 0]\n"
     ]
    },
    {
     "name": "stderr",
     "output_type": "stream",
     "text": [
      "  0%|                                                | 0/100 [00:00<?, ?batch/s][W ParallelNative.cpp:212] Warning: Cannot set number of intraop threads after parallel work has started or after set_num_threads call when using native parallel backend (function set_num_threads)\n",
      "[W ParallelNative.cpp:212] Warning: Cannot set number of intraop threads after parallel work has started or after set_num_threads call when using native parallel backend (function set_num_threads)\n",
      "100%|████████████| 100/100 [00:22<00:00,  4.36batch/s, accuracy=0.133, loss=5.9]\n"
     ]
    },
    {
     "name": "stdout",
     "output_type": "stream",
     "text": [
      "# of filters to prune for each layer: [0, 0, 4, 4, 8, 8, 12, 12, 16, 16, 12, 12, 8, 8, 4, 4, 0, 0]\n"
     ]
    },
    {
     "name": "stderr",
     "output_type": "stream",
     "text": [
      "  0%|                                                | 0/100 [00:00<?, ?batch/s][W ParallelNative.cpp:212] Warning: Cannot set number of intraop threads after parallel work has started or after set_num_threads call when using native parallel backend (function set_num_threads)\n",
      "[W ParallelNative.cpp:212] Warning: Cannot set number of intraop threads after parallel work has started or after set_num_threads call when using native parallel backend (function set_num_threads)\n",
      "100%|███████████| 100/100 [00:22<00:00,  4.42batch/s, accuracy=0.102, loss=7.86]\n"
     ]
    },
    {
     "name": "stdout",
     "output_type": "stream",
     "text": [
      "# of filters to prune for each layer: [0, 0, 4, 4, 9, 9, 13, 13, 18, 18, 13, 13, 9, 9, 4, 4, 0, 0]\n"
     ]
    },
    {
     "name": "stderr",
     "output_type": "stream",
     "text": [
      "  0%|                                                | 0/100 [00:00<?, ?batch/s][W ParallelNative.cpp:212] Warning: Cannot set number of intraop threads after parallel work has started or after set_num_threads call when using native parallel backend (function set_num_threads)\n",
      "[W ParallelNative.cpp:212] Warning: Cannot set number of intraop threads after parallel work has started or after set_num_threads call when using native parallel backend (function set_num_threads)\n",
      "100%|███████████| 100/100 [00:22<00:00,  4.45batch/s, accuracy=0.107, loss=9.26]\n"
     ]
    }
   ],
   "source": [
    "results = pd.DataFrame(columns=[\"number_pruned_params\", \"accuracy\"])\n",
    "amount_to_prun = np.array([16] * 6 + [32] * 6 + [64] * 6)\n",
    "\n",
    "for i in range(10):\n",
    "    arr = [int(\n",
    "        min(j, len(amount_to_prun) - j - 1) // 2 * 0.5 * (i)\n",
    "              ) for j, el in enumerate(amount_to_prun)]\n",
    "    print(\"# of filters to prune for each layer:\", arr)\n",
    "    \n",
    "    results.loc[len(results)] = run_experiment(net, arr, i)"
   ]
  },
  {
   "cell_type": "code",
   "execution_count": 29,
   "metadata": {},
   "outputs": [
    {
     "data": {
      "text/html": [
       "<div>\n",
       "<style scoped>\n",
       "    .dataframe tbody tr th:only-of-type {\n",
       "        vertical-align: middle;\n",
       "    }\n",
       "\n",
       "    .dataframe tbody tr th {\n",
       "        vertical-align: top;\n",
       "    }\n",
       "\n",
       "    .dataframe thead th {\n",
       "        text-align: right;\n",
       "    }\n",
       "</style>\n",
       "<table border=\"1\" class=\"dataframe\">\n",
       "  <thead>\n",
       "    <tr style=\"text-align: right;\">\n",
       "      <th></th>\n",
       "      <th>number_pruned_params</th>\n",
       "      <th>accuracy</th>\n",
       "      <th>perc_pruned_params</th>\n",
       "    </tr>\n",
       "  </thead>\n",
       "  <tbody>\n",
       "    <tr>\n",
       "      <th>0</th>\n",
       "      <td>0.0</td>\n",
       "      <td>0.9292</td>\n",
       "      <td>0.000000</td>\n",
       "    </tr>\n",
       "    <tr>\n",
       "      <th>1</th>\n",
       "      <td>3312.0</td>\n",
       "      <td>0.9204</td>\n",
       "      <td>0.012279</td>\n",
       "    </tr>\n",
       "    <tr>\n",
       "      <th>2</th>\n",
       "      <td>9072.0</td>\n",
       "      <td>0.8253</td>\n",
       "      <td>0.033635</td>\n",
       "    </tr>\n",
       "    <tr>\n",
       "      <th>3</th>\n",
       "      <td>12384.0</td>\n",
       "      <td>0.4729</td>\n",
       "      <td>0.045914</td>\n",
       "    </tr>\n",
       "    <tr>\n",
       "      <th>4</th>\n",
       "      <td>18144.0</td>\n",
       "      <td>0.2946</td>\n",
       "      <td>0.067269</td>\n",
       "    </tr>\n",
       "    <tr>\n",
       "      <th>5</th>\n",
       "      <td>21456.0</td>\n",
       "      <td>0.1832</td>\n",
       "      <td>0.079549</td>\n",
       "    </tr>\n",
       "    <tr>\n",
       "      <th>6</th>\n",
       "      <td>27216.0</td>\n",
       "      <td>0.1077</td>\n",
       "      <td>0.100904</td>\n",
       "    </tr>\n",
       "    <tr>\n",
       "      <th>7</th>\n",
       "      <td>30528.0</td>\n",
       "      <td>0.1326</td>\n",
       "      <td>0.113183</td>\n",
       "    </tr>\n",
       "    <tr>\n",
       "      <th>8</th>\n",
       "      <td>36288.0</td>\n",
       "      <td>0.1019</td>\n",
       "      <td>0.134539</td>\n",
       "    </tr>\n",
       "    <tr>\n",
       "      <th>9</th>\n",
       "      <td>39600.0</td>\n",
       "      <td>0.1071</td>\n",
       "      <td>0.146818</td>\n",
       "    </tr>\n",
       "  </tbody>\n",
       "</table>\n",
       "</div>"
      ],
      "text/plain": [
       "   number_pruned_params  accuracy  perc_pruned_params\n",
       "0                   0.0    0.9292            0.000000\n",
       "1                3312.0    0.9204            0.012279\n",
       "2                9072.0    0.8253            0.033635\n",
       "3               12384.0    0.4729            0.045914\n",
       "4               18144.0    0.2946            0.067269\n",
       "5               21456.0    0.1832            0.079549\n",
       "6               27216.0    0.1077            0.100904\n",
       "7               30528.0    0.1326            0.113183\n",
       "8               36288.0    0.1019            0.134539\n",
       "9               39600.0    0.1071            0.146818"
      ]
     },
     "execution_count": 29,
     "metadata": {},
     "output_type": "execute_result"
    },
    {
     "data": {
      "image/png": "[encoded data removed]",
      "text/plain": [
       "<Figure size 432x288 with 1 Axes>"
      ]
     },
     "metadata": {
      "needs_background": "light"
     },
     "output_type": "display_data"
    }
   ],
   "source": [
    "show_results(results)"
   ]
  },
  {
   "cell_type": "code",
   "execution_count": 47,
   "metadata": {
    "scrolled": true
   },
   "outputs": [
    {
     "name": "stdout",
     "output_type": "stream",
     "text": [
      "# of filters to prune for each layer: [0 0 0 0 0 0 0 0 0 0 0 0 0 0 0 0 0 0]\n"
     ]
    },
    {
     "name": "stderr",
     "output_type": "stream",
     "text": [
      "  0%|                                                | 0/100 [00:00<?, ?batch/s][W ParallelNative.cpp:212] Warning: Cannot set number of intraop threads after parallel work has started or after set_num_threads call when using native parallel backend (function set_num_threads)\n",
      "[W ParallelNative.cpp:212] Warning: Cannot set number of intraop threads after parallel work has started or after set_num_threads call when using native parallel backend (function set_num_threads)\n",
      "100%|██████████| 100/100 [00:22<00:00,  4.37batch/s, accuracy=0.929, loss=0.265]\n"
     ]
    },
    {
     "name": "stdout",
     "output_type": "stream",
     "text": [
      "# of filters to prune for each layer: [0 0 0 0 0 0 3 3 3 3 3 3 0 0 0 0 0 0]\n"
     ]
    },
    {
     "name": "stderr",
     "output_type": "stream",
     "text": [
      "  0%|                                                | 0/100 [00:00<?, ?batch/s][W ParallelNative.cpp:212] Warning: Cannot set number of intraop threads after parallel work has started or after set_num_threads call when using native parallel backend (function set_num_threads)\n",
      "[W ParallelNative.cpp:212] Warning: Cannot set number of intraop threads after parallel work has started or after set_num_threads call when using native parallel backend (function set_num_threads)\n",
      "100%|████████████| 100/100 [00:22<00:00,  4.43batch/s, accuracy=0.9, loss=0.372]\n"
     ]
    },
    {
     "name": "stdout",
     "output_type": "stream",
     "text": [
      "# of filters to prune for each layer: [0 0 0 0 0 0 6 6 6 6 6 6 0 0 0 0 0 0]\n"
     ]
    },
    {
     "name": "stderr",
     "output_type": "stream",
     "text": [
      "  0%|                                                | 0/100 [00:00<?, ?batch/s][W ParallelNative.cpp:212] Warning: Cannot set number of intraop threads after parallel work has started or after set_num_threads call when using native parallel backend (function set_num_threads)\n",
      "[W ParallelNative.cpp:212] Warning: Cannot set number of intraop threads after parallel work has started or after set_num_threads call when using native parallel backend (function set_num_threads)\n",
      "100%|██████████| 100/100 [00:23<00:00,  4.32batch/s, accuracy=0.823, loss=0.649]\n"
     ]
    },
    {
     "name": "stdout",
     "output_type": "stream",
     "text": [
      "# of filters to prune for each layer: [0 0 0 0 0 0 9 9 9 9 9 9 0 0 0 0 0 0]\n"
     ]
    },
    {
     "name": "stderr",
     "output_type": "stream",
     "text": [
      "  0%|                                                | 0/100 [00:00<?, ?batch/s][W ParallelNative.cpp:212] Warning: Cannot set number of intraop threads after parallel work has started or after set_num_threads call when using native parallel backend (function set_num_threads)\n",
      "[W ParallelNative.cpp:212] Warning: Cannot set number of intraop threads after parallel work has started or after set_num_threads call when using native parallel backend (function set_num_threads)\n",
      "100%|███████████| 100/100 [00:23<00:00,  4.27batch/s, accuracy=0.185, loss=4.96]\n"
     ]
    },
    {
     "name": "stdout",
     "output_type": "stream",
     "text": [
      "# of filters to prune for each layer: [ 0  0  0  0  0  0 12 12 12 12 12 12  0  0  0  0  0  0]\n"
     ]
    },
    {
     "name": "stderr",
     "output_type": "stream",
     "text": [
      "  0%|                                                | 0/100 [00:00<?, ?batch/s][W ParallelNative.cpp:212] Warning: Cannot set number of intraop threads after parallel work has started or after set_num_threads call when using native parallel backend (function set_num_threads)\n",
      "[W ParallelNative.cpp:212] Warning: Cannot set number of intraop threads after parallel work has started or after set_num_threads call when using native parallel backend (function set_num_threads)\n",
      "100%|███████████| 100/100 [00:27<00:00,  3.58batch/s, accuracy=0.155, loss=4.89]\n"
     ]
    },
    {
     "name": "stdout",
     "output_type": "stream",
     "text": [
      "# of filters to prune for each layer: [ 0  0  0  0  0  0 15 15 15 15 15 15  0  0  0  0  0  0]\n"
     ]
    },
    {
     "name": "stderr",
     "output_type": "stream",
     "text": [
      "  0%|                                                | 0/100 [00:00<?, ?batch/s][W ParallelNative.cpp:212] Warning: Cannot set number of intraop threads after parallel work has started or after set_num_threads call when using native parallel backend (function set_num_threads)\n",
      "[W ParallelNative.cpp:212] Warning: Cannot set number of intraop threads after parallel work has started or after set_num_threads call when using native parallel backend (function set_num_threads)\n",
      "100%|███████████| 100/100 [00:27<00:00,  4.08batch/s, accuracy=0.127, loss=7.69][W ParallelNative.cpp:212] Warning: Cannot set number of intraop threads after parallel work has started or after set_num_threads call when using native parallel backend (function set_num_threads)\n",
      "100%|███████████| 100/100 [00:27<00:00,  3.58batch/s, accuracy=0.127, loss=7.69]\n"
     ]
    },
    {
     "name": "stdout",
     "output_type": "stream",
     "text": [
      "# of filters to prune for each layer: [ 0  0  0  0  0  0 18 18 18 18 18 18  0  0  0  0  0  0]\n"
     ]
    },
    {
     "name": "stderr",
     "output_type": "stream",
     "text": [
      "  0%|                                                | 0/100 [00:00<?, ?batch/s][W ParallelNative.cpp:212] Warning: Cannot set number of intraop threads after parallel work has started or after set_num_threads call when using native parallel backend (function set_num_threads)\n",
      "[W ParallelNative.cpp:212] Warning: Cannot set number of intraop threads after parallel work has started or after set_num_threads call when using native parallel backend (function set_num_threads)\n",
      "100%|███████████| 100/100 [00:23<00:00,  4.20batch/s, accuracy=0.095, loss=14.4]\n"
     ]
    },
    {
     "name": "stdout",
     "output_type": "stream",
     "text": [
      "# of filters to prune for each layer: [ 0  0  0  0  0  0 21 21 21 21 21 21  0  0  0  0  0  0]\n"
     ]
    },
    {
     "name": "stderr",
     "output_type": "stream",
     "text": [
      "  0%|                                                | 0/100 [00:00<?, ?batch/s][W ParallelNative.cpp:212] Warning: Cannot set number of intraop threads after parallel work has started or after set_num_threads call when using native parallel backend (function set_num_threads)\n",
      "[W ParallelNative.cpp:212] Warning: Cannot set number of intraop threads after parallel work has started or after set_num_threads call when using native parallel backend (function set_num_threads)\n",
      "100%|███████████| 100/100 [00:26<00:00,  3.72batch/s, accuracy=0.119, loss=7.86]\n"
     ]
    },
    {
     "name": "stdout",
     "output_type": "stream",
     "text": [
      "# of filters to prune for each layer: [ 0  0  0  0  0  0 24 24 24 24 24 24  0  0  0  0  0  0]\n"
     ]
    },
    {
     "name": "stderr",
     "output_type": "stream",
     "text": [
      "  0%|                                                | 0/100 [00:00<?, ?batch/s][W ParallelNative.cpp:212] Warning: Cannot set number of intraop threads after parallel work has started or after set_num_threads call when using native parallel backend (function set_num_threads)\n",
      "[W ParallelNative.cpp:212] Warning: Cannot set number of intraop threads after parallel work has started or after set_num_threads call when using native parallel backend (function set_num_threads)\n",
      "100%|███████████| 100/100 [00:25<00:00,  4.00batch/s, accuracy=0.152, loss=6.56]\n"
     ]
    },
    {
     "name": "stdout",
     "output_type": "stream",
     "text": [
      "# of filters to prune for each layer: [ 0  0  0  0  0  0 27 27 27 27 27 27  0  0  0  0  0  0]\n"
     ]
    },
    {
     "name": "stderr",
     "output_type": "stream",
     "text": [
      "  0%|                                                | 0/100 [00:00<?, ?batch/s][W ParallelNative.cpp:212] Warning: Cannot set number of intraop threads after parallel work has started or after set_num_threads call when using native parallel backend (function set_num_threads)\n",
      "[W ParallelNative.cpp:212] Warning: Cannot set number of intraop threads after parallel work has started or after set_num_threads call when using native parallel backend (function set_num_threads)\n",
      "100%|███████████| 100/100 [00:27<00:00,  3.69batch/s, accuracy=0.122, loss=8.15]\n"
     ]
    }
   ],
   "source": [
    "results = pd.DataFrame(columns=[\"number_pruned_params\", \"accuracy\"])\n",
    "amount_to_prun = np.array([0] * 6 + [1] * 6 + [0] * 6)\n",
    "\n",
    "for i in range(10):\n",
    "    arr = amount_to_prun * i * 3\n",
    "    print(\"# of filters to prune for each layer:\", arr)\n",
    "    \n",
    "    results.loc[len(results)] = run_experiment(net, arr, i)"
   ]
  },
  {
   "cell_type": "code",
   "execution_count": 48,
   "metadata": {},
   "outputs": [
    {
     "data": {
      "text/html": [
       "<div>\n",
       "<style scoped>\n",
       "    .dataframe tbody tr th:only-of-type {\n",
       "        vertical-align: middle;\n",
       "    }\n",
       "\n",
       "    .dataframe tbody tr th {\n",
       "        vertical-align: top;\n",
       "    }\n",
       "\n",
       "    .dataframe thead th {\n",
       "        text-align: right;\n",
       "    }\n",
       "</style>\n",
       "<table border=\"1\" class=\"dataframe\">\n",
       "  <thead>\n",
       "    <tr style=\"text-align: right;\">\n",
       "      <th></th>\n",
       "      <th>number_pruned_params</th>\n",
       "      <th>accuracy</th>\n",
       "      <th>perc_pruned_params</th>\n",
       "    </tr>\n",
       "  </thead>\n",
       "  <tbody>\n",
       "    <tr>\n",
       "      <th>0</th>\n",
       "      <td>0.0</td>\n",
       "      <td>0.9292</td>\n",
       "      <td>0.000000</td>\n",
       "    </tr>\n",
       "    <tr>\n",
       "      <th>1</th>\n",
       "      <td>4752.0</td>\n",
       "      <td>0.8997</td>\n",
       "      <td>0.017618</td>\n",
       "    </tr>\n",
       "    <tr>\n",
       "      <th>2</th>\n",
       "      <td>9504.0</td>\n",
       "      <td>0.8234</td>\n",
       "      <td>0.035236</td>\n",
       "    </tr>\n",
       "    <tr>\n",
       "      <th>3</th>\n",
       "      <td>14256.0</td>\n",
       "      <td>0.1851</td>\n",
       "      <td>0.052854</td>\n",
       "    </tr>\n",
       "    <tr>\n",
       "      <th>4</th>\n",
       "      <td>19008.0</td>\n",
       "      <td>0.1548</td>\n",
       "      <td>0.070473</td>\n",
       "    </tr>\n",
       "    <tr>\n",
       "      <th>5</th>\n",
       "      <td>23760.0</td>\n",
       "      <td>0.1268</td>\n",
       "      <td>0.088091</td>\n",
       "    </tr>\n",
       "    <tr>\n",
       "      <th>6</th>\n",
       "      <td>28512.0</td>\n",
       "      <td>0.0950</td>\n",
       "      <td>0.105709</td>\n",
       "    </tr>\n",
       "    <tr>\n",
       "      <th>7</th>\n",
       "      <td>33264.0</td>\n",
       "      <td>0.1194</td>\n",
       "      <td>0.123327</td>\n",
       "    </tr>\n",
       "    <tr>\n",
       "      <th>8</th>\n",
       "      <td>38016.0</td>\n",
       "      <td>0.1518</td>\n",
       "      <td>0.140945</td>\n",
       "    </tr>\n",
       "    <tr>\n",
       "      <th>9</th>\n",
       "      <td>42768.0</td>\n",
       "      <td>0.1220</td>\n",
       "      <td>0.158563</td>\n",
       "    </tr>\n",
       "  </tbody>\n",
       "</table>\n",
       "</div>"
      ],
      "text/plain": [
       "   number_pruned_params  accuracy  perc_pruned_params\n",
       "0                   0.0    0.9292            0.000000\n",
       "1                4752.0    0.8997            0.017618\n",
       "2                9504.0    0.8234            0.035236\n",
       "3               14256.0    0.1851            0.052854\n",
       "4               19008.0    0.1548            0.070473\n",
       "5               23760.0    0.1268            0.088091\n",
       "6               28512.0    0.0950            0.105709\n",
       "7               33264.0    0.1194            0.123327\n",
       "8               38016.0    0.1518            0.140945\n",
       "9               42768.0    0.1220            0.158563"
      ]
     },
     "execution_count": 48,
     "metadata": {},
     "output_type": "execute_result"
    },
    {
     "data": {
      "image/png": "[encoded data removed]",
      "text/plain": [
       "<Figure size 432x288 with 1 Axes>"
      ]
     },
     "metadata": {
      "needs_background": "light"
     },
     "output_type": "display_data"
    }
   ],
   "source": [
    "show_results(results)"
   ]
  },
  {
   "cell_type": "markdown",
   "metadata": {},
   "source": [
    "### Experiment 4\n",
    "\n",
    "Попробуем удалять веса из первых и последних слоев каждого блока"
   ]
  },
  {
   "cell_type": "code",
   "execution_count": 67,
   "metadata": {
    "scrolled": true
   },
   "outputs": [
    {
     "name": "stdout",
     "output_type": "stream",
     "text": [
      "# of filters to prune for each layer: [0 0 0 0 0 0 0 0 0 0 0 0 0 0 0 0 0 0]\n"
     ]
    },
    {
     "name": "stderr",
     "output_type": "stream",
     "text": [
      "  0%|                                                | 0/100 [00:00<?, ?batch/s][W ParallelNative.cpp:212] Warning: Cannot set number of intraop threads after parallel work has started or after set_num_threads call when using native parallel backend (function set_num_threads)\n",
      "[W ParallelNative.cpp:212] Warning: Cannot set number of intraop threads after parallel work has started or after set_num_threads call when using native parallel backend (function set_num_threads)\n",
      "100%|██████████| 100/100 [00:34<00:00,  2.87batch/s, accuracy=0.929, loss=0.265]\n"
     ]
    },
    {
     "name": "stdout",
     "output_type": "stream",
     "text": [
      "# of filters to prune for each layer: [0 1 0 1 0 1 0 3 0 3 0 3 0 3 0 1 0 1]\n"
     ]
    },
    {
     "name": "stderr",
     "output_type": "stream",
     "text": [
      "  0%|                                                | 0/100 [00:00<?, ?batch/s][W ParallelNative.cpp:212] Warning: Cannot set number of intraop threads after parallel work has started or after set_num_threads call when using native parallel backend (function set_num_threads)\n",
      "[W ParallelNative.cpp:212] Warning: Cannot set number of intraop threads after parallel work has started or after set_num_threads call when using native parallel backend (function set_num_threads)\n",
      "100%|██████████| 100/100 [00:24<00:00,  4.14batch/s, accuracy=0.907, loss=0.362]\n"
     ]
    },
    {
     "name": "stdout",
     "output_type": "stream",
     "text": [
      "# of filters to prune for each layer: [0 2 0 2 0 2 0 6 0 6 0 6 0 6 0 2 0 2]\n"
     ]
    },
    {
     "name": "stderr",
     "output_type": "stream",
     "text": [
      "  0%|                                                | 0/100 [00:00<?, ?batch/s][W ParallelNative.cpp:212] Warning: Cannot set number of intraop threads after parallel work has started or after set_num_threads call when using native parallel backend (function set_num_threads)\n",
      "[W ParallelNative.cpp:212] Warning: Cannot set number of intraop threads after parallel work has started or after set_num_threads call when using native parallel backend (function set_num_threads)\n",
      "100%|██████████| 100/100 [00:28<00:00,  3.47batch/s, accuracy=0.869, loss=0.543]\n"
     ]
    },
    {
     "name": "stdout",
     "output_type": "stream",
     "text": [
      "# of filters to prune for each layer: [0 3 0 3 0 3 0 9 0 9 0 9 0 9 0 3 0 3]\n"
     ]
    },
    {
     "name": "stderr",
     "output_type": "stream",
     "text": [
      "  0%|                                                | 0/100 [00:00<?, ?batch/s][W ParallelNative.cpp:212] Warning: Cannot set number of intraop threads after parallel work has started or after set_num_threads call when using native parallel backend (function set_num_threads)\n",
      "[W ParallelNative.cpp:212] Warning: Cannot set number of intraop threads after parallel work has started or after set_num_threads call when using native parallel backend (function set_num_threads)\n",
      "100%|██████████| 100/100 [00:24<00:00,  4.09batch/s, accuracy=0.828, loss=0.753]\n"
     ]
    },
    {
     "name": "stdout",
     "output_type": "stream",
     "text": [
      "# of filters to prune for each layer: [ 0  4  0  4  0  4  0 12  0 12  0 12  0 12  0  4  0  4]\n"
     ]
    },
    {
     "name": "stderr",
     "output_type": "stream",
     "text": [
      "  0%|                                                | 0/100 [00:00<?, ?batch/s][W ParallelNative.cpp:212] Warning: Cannot set number of intraop threads after parallel work has started or after set_num_threads call when using native parallel backend (function set_num_threads)\n",
      "[W ParallelNative.cpp:212] Warning: Cannot set number of intraop threads after parallel work has started or after set_num_threads call when using native parallel backend (function set_num_threads)\n",
      "100%|███████████| 100/100 [00:25<00:00,  4.00batch/s, accuracy=0.633, loss=1.96]\n"
     ]
    },
    {
     "name": "stdout",
     "output_type": "stream",
     "text": [
      "# of filters to prune for each layer: [ 0  5  0  5  0  5  0 15  0 15  0 15  0 15  0  5  0  5]\n"
     ]
    },
    {
     "name": "stderr",
     "output_type": "stream",
     "text": [
      "  0%|                                                | 0/100 [00:00<?, ?batch/s][W ParallelNative.cpp:212] Warning: Cannot set number of intraop threads after parallel work has started or after set_num_threads call when using native parallel backend (function set_num_threads)\n",
      "[W ParallelNative.cpp:212] Warning: Cannot set number of intraop threads after parallel work has started or after set_num_threads call when using native parallel backend (function set_num_threads)\n",
      "100%|███████████| 100/100 [00:26<00:00,  3.77batch/s, accuracy=0.409, loss=3.99]\n"
     ]
    },
    {
     "name": "stdout",
     "output_type": "stream",
     "text": [
      "# of filters to prune for each layer: [ 0  6  0  6  0  6  0 18  0 18  0 18  0 18  0  6  0  6]\n"
     ]
    },
    {
     "name": "stderr",
     "output_type": "stream",
     "text": [
      "  0%|                                                | 0/100 [00:00<?, ?batch/s][W ParallelNative.cpp:212] Warning: Cannot set number of intraop threads after parallel work has started or after set_num_threads call when using native parallel backend (function set_num_threads)\n",
      "[W ParallelNative.cpp:212] Warning: Cannot set number of intraop threads after parallel work has started or after set_num_threads call when using native parallel backend (function set_num_threads)\n",
      "100%|███████████| 100/100 [00:24<00:00,  4.04batch/s, accuracy=0.318, loss=5.43]\n"
     ]
    },
    {
     "name": "stdout",
     "output_type": "stream",
     "text": [
      "# of filters to prune for each layer: [ 0  7  0  7  0  7  0 21  0 21  0 21  0 21  0  7  0  7]\n"
     ]
    },
    {
     "name": "stderr",
     "output_type": "stream",
     "text": [
      "  0%|                                                | 0/100 [00:00<?, ?batch/s][W ParallelNative.cpp:212] Warning: Cannot set number of intraop threads after parallel work has started or after set_num_threads call when using native parallel backend (function set_num_threads)\n",
      "[W ParallelNative.cpp:212] Warning: Cannot set number of intraop threads after parallel work has started or after set_num_threads call when using native parallel backend (function set_num_threads)\n",
      "100%|█████████████| 100/100 [00:25<00:00,  3.91batch/s, accuracy=0.101, loss=20]\n"
     ]
    },
    {
     "name": "stdout",
     "output_type": "stream",
     "text": [
      "# of filters to prune for each layer: [ 0  8  0  8  0  8  0 24  0 24  0 24  0 24  0  8  0  8]\n"
     ]
    },
    {
     "name": "stderr",
     "output_type": "stream",
     "text": [
      "  0%|                                                | 0/100 [00:00<?, ?batch/s][W ParallelNative.cpp:212] Warning: Cannot set number of intraop threads after parallel work has started or after set_num_threads call when using native parallel backend (function set_num_threads)\n",
      "[W ParallelNative.cpp:212] Warning: Cannot set number of intraop threads after parallel work has started or after set_num_threads call when using native parallel backend (function set_num_threads)\n",
      "100%|████████████| 100/100 [00:33<00:00,  3.02batch/s, accuracy=0.11, loss=21.2]\n"
     ]
    },
    {
     "name": "stdout",
     "output_type": "stream",
     "text": [
      "# of filters to prune for each layer: [ 0  9  0  9  0  9  0 27  0 27  0 27  0 27  0  9  0  9]\n"
     ]
    },
    {
     "name": "stderr",
     "output_type": "stream",
     "text": [
      "  0%|                                                | 0/100 [00:00<?, ?batch/s][W ParallelNative.cpp:212] Warning: Cannot set number of intraop threads after parallel work has started or after set_num_threads call when using native parallel backend (function set_num_threads)\n",
      "[W ParallelNative.cpp:212] Warning: Cannot set number of intraop threads after parallel work has started or after set_num_threads call when using native parallel backend (function set_num_threads)\n",
      "100%|██████████| 100/100 [00:23<00:00,  4.30batch/s, accuracy=0.0995, loss=18.1]\n"
     ]
    }
   ],
   "source": [
    "results = pd.DataFrame(columns=[\"number_pruned_params\", \"accuracy\"])\n",
    "amount_to_prun = np.array([0, 1] * 9)\n",
    "\n",
    "for i in range(10):\n",
    "    arr = amount_to_prun * i\n",
    "    arr[7:15] = arr[7:15] * 3\n",
    "    print(\"# of filters to prune for each layer:\", arr)\n",
    "    \n",
    "    results.loc[len(results)] = run_experiment(net, arr, i)"
   ]
  },
  {
   "cell_type": "code",
   "execution_count": 68,
   "metadata": {},
   "outputs": [
    {
     "data": {
      "text/html": [
       "<div>\n",
       "<style scoped>\n",
       "    .dataframe tbody tr th:only-of-type {\n",
       "        vertical-align: middle;\n",
       "    }\n",
       "\n",
       "    .dataframe tbody tr th {\n",
       "        vertical-align: top;\n",
       "    }\n",
       "\n",
       "    .dataframe thead th {\n",
       "        text-align: right;\n",
       "    }\n",
       "</style>\n",
       "<table border=\"1\" class=\"dataframe\">\n",
       "  <thead>\n",
       "    <tr style=\"text-align: right;\">\n",
       "      <th></th>\n",
       "      <th>number_pruned_params</th>\n",
       "      <th>accuracy</th>\n",
       "      <th>perc_pruned_params</th>\n",
       "    </tr>\n",
       "  </thead>\n",
       "  <tbody>\n",
       "    <tr>\n",
       "      <th>0</th>\n",
       "      <td>0.0</td>\n",
       "      <td>0.9292</td>\n",
       "      <td>0.000000</td>\n",
       "    </tr>\n",
       "    <tr>\n",
       "      <th>1</th>\n",
       "      <td>5904.0</td>\n",
       "      <td>0.9074</td>\n",
       "      <td>0.021889</td>\n",
       "    </tr>\n",
       "    <tr>\n",
       "      <th>2</th>\n",
       "      <td>11808.0</td>\n",
       "      <td>0.8694</td>\n",
       "      <td>0.043778</td>\n",
       "    </tr>\n",
       "    <tr>\n",
       "      <th>3</th>\n",
       "      <td>17712.0</td>\n",
       "      <td>0.8276</td>\n",
       "      <td>0.065668</td>\n",
       "    </tr>\n",
       "    <tr>\n",
       "      <th>4</th>\n",
       "      <td>23616.0</td>\n",
       "      <td>0.6328</td>\n",
       "      <td>0.087557</td>\n",
       "    </tr>\n",
       "    <tr>\n",
       "      <th>5</th>\n",
       "      <td>29520.0</td>\n",
       "      <td>0.4093</td>\n",
       "      <td>0.109446</td>\n",
       "    </tr>\n",
       "    <tr>\n",
       "      <th>6</th>\n",
       "      <td>35424.0</td>\n",
       "      <td>0.3179</td>\n",
       "      <td>0.131335</td>\n",
       "    </tr>\n",
       "    <tr>\n",
       "      <th>7</th>\n",
       "      <td>41328.0</td>\n",
       "      <td>0.1008</td>\n",
       "      <td>0.153224</td>\n",
       "    </tr>\n",
       "    <tr>\n",
       "      <th>8</th>\n",
       "      <td>47232.0</td>\n",
       "      <td>0.1097</td>\n",
       "      <td>0.175114</td>\n",
       "    </tr>\n",
       "    <tr>\n",
       "      <th>9</th>\n",
       "      <td>53136.0</td>\n",
       "      <td>0.0995</td>\n",
       "      <td>0.197003</td>\n",
       "    </tr>\n",
       "  </tbody>\n",
       "</table>\n",
       "</div>"
      ],
      "text/plain": [
       "   number_pruned_params  accuracy  perc_pruned_params\n",
       "0                   0.0    0.9292            0.000000\n",
       "1                5904.0    0.9074            0.021889\n",
       "2               11808.0    0.8694            0.043778\n",
       "3               17712.0    0.8276            0.065668\n",
       "4               23616.0    0.6328            0.087557\n",
       "5               29520.0    0.4093            0.109446\n",
       "6               35424.0    0.3179            0.131335\n",
       "7               41328.0    0.1008            0.153224\n",
       "8               47232.0    0.1097            0.175114\n",
       "9               53136.0    0.0995            0.197003"
      ]
     },
     "execution_count": 68,
     "metadata": {},
     "output_type": "execute_result"
    },
    {
     "data": {
      "image/png": "[encoded data removed]",
      "text/plain": [
       "<Figure size 432x288 with 1 Axes>"
      ]
     },
     "metadata": {
      "needs_background": "light"
     },
     "output_type": "display_data"
    }
   ],
   "source": [
    "show_results(results)"
   ]
  },
  {
   "cell_type": "code",
   "execution_count": 72,
   "metadata": {
    "scrolled": true
   },
   "outputs": [
    {
     "name": "stdout",
     "output_type": "stream",
     "text": [
      "# of filters to prune for each layer: [0 0 0 0 0 0 0 0 0 0 0 0 0 0 0 0 0 0]\n"
     ]
    },
    {
     "name": "stderr",
     "output_type": "stream",
     "text": [
      "  0%|                                                | 0/100 [00:00<?, ?batch/s][W ParallelNative.cpp:212] Warning: Cannot set number of intraop threads after parallel work has started or after set_num_threads call when using native parallel backend (function set_num_threads)\n",
      "[W ParallelNative.cpp:212] Warning: Cannot set number of intraop threads after parallel work has started or after set_num_threads call when using native parallel backend (function set_num_threads)\n",
      "100%|██████████| 100/100 [00:29<00:00,  3.45batch/s, accuracy=0.929, loss=0.265]\n"
     ]
    },
    {
     "name": "stdout",
     "output_type": "stream",
     "text": [
      "# of filters to prune for each layer: [1 0 1 0 1 0 3 0 3 0 3 0 3 0 3 0 1 0]\n"
     ]
    },
    {
     "name": "stderr",
     "output_type": "stream",
     "text": [
      "  0%|                                                | 0/100 [00:00<?, ?batch/s][W ParallelNative.cpp:212] Warning: Cannot set number of intraop threads after parallel work has started or after set_num_threads call when using native parallel backend (function set_num_threads)\n",
      "[W ParallelNative.cpp:212] Warning: Cannot set number of intraop threads after parallel work has started or after set_num_threads call when using native parallel backend (function set_num_threads)\n",
      "100%|███████████| 100/100 [00:28<00:00,  4.53batch/s, accuracy=0.425, loss=2.12][W ParallelNative.cpp:212] Warning: Cannot set number of intraop threads after parallel work has started or after set_num_threads call when using native parallel backend (function set_num_threads)\n",
      "100%|███████████| 100/100 [00:28<00:00,  3.49batch/s, accuracy=0.425, loss=2.12]\n"
     ]
    },
    {
     "name": "stdout",
     "output_type": "stream",
     "text": [
      "# of filters to prune for each layer: [2 0 2 0 2 0 6 0 6 0 6 0 6 0 6 0 2 0]\n"
     ]
    },
    {
     "name": "stderr",
     "output_type": "stream",
     "text": [
      "  0%|                                                | 0/100 [00:00<?, ?batch/s][W ParallelNative.cpp:212] Warning: Cannot set number of intraop threads after parallel work has started or after set_num_threads call when using native parallel backend (function set_num_threads)\n",
      "[W ParallelNative.cpp:212] Warning: Cannot set number of intraop threads after parallel work has started or after set_num_threads call when using native parallel backend (function set_num_threads)\n",
      "100%|███████████| 100/100 [00:23<00:00,  4.35batch/s, accuracy=0.466, loss=2.88]\n"
     ]
    },
    {
     "name": "stdout",
     "output_type": "stream",
     "text": [
      "# of filters to prune for each layer: [3 0 3 0 3 0 9 0 9 0 9 0 9 0 9 0 3 0]\n"
     ]
    },
    {
     "name": "stderr",
     "output_type": "stream",
     "text": [
      "  0%|                                                | 0/100 [00:00<?, ?batch/s][W ParallelNative.cpp:212] Warning: Cannot set number of intraop threads after parallel work has started or after set_num_threads call when using native parallel backend (function set_num_threads)\n",
      "[W ParallelNative.cpp:212] Warning: Cannot set number of intraop threads after parallel work has started or after set_num_threads call when using native parallel backend (function set_num_threads)\n",
      "100%|███████████| 100/100 [00:26<00:00,  3.71batch/s, accuracy=0.102, loss=2.64]\n"
     ]
    },
    {
     "name": "stdout",
     "output_type": "stream",
     "text": [
      "# of filters to prune for each layer: [ 4  0  4  0  4  0 12  0 12  0 12  0 12  0 12  0  4  0]\n"
     ]
    },
    {
     "name": "stderr",
     "output_type": "stream",
     "text": [
      "  0%|                                                | 0/100 [00:00<?, ?batch/s][W ParallelNative.cpp:212] Warning: Cannot set number of intraop threads after parallel work has started or after set_num_threads call when using native parallel backend (function set_num_threads)\n",
      "[W ParallelNative.cpp:212] Warning: Cannot set number of intraop threads after parallel work has started or after set_num_threads call when using native parallel backend (function set_num_threads)\n",
      "100%|█████████████| 100/100 [00:22<00:00,  4.35batch/s, accuracy=0.1, loss=5.83]\n"
     ]
    },
    {
     "name": "stdout",
     "output_type": "stream",
     "text": [
      "# of filters to prune for each layer: [ 5  0  5  0  5  0 15  0 15  0 15  0 15  0 15  0  5  0]\n"
     ]
    },
    {
     "name": "stderr",
     "output_type": "stream",
     "text": [
      "  0%|                                                | 0/100 [00:00<?, ?batch/s][W ParallelNative.cpp:212] Warning: Cannot set number of intraop threads after parallel work has started or after set_num_threads call when using native parallel backend (function set_num_threads)\n",
      "[W ParallelNative.cpp:212] Warning: Cannot set number of intraop threads after parallel work has started or after set_num_threads call when using native parallel backend (function set_num_threads)\n",
      "100%|█████████████| 100/100 [00:25<00:00,  3.90batch/s, accuracy=0.1, loss=2.85]\n"
     ]
    },
    {
     "name": "stdout",
     "output_type": "stream",
     "text": [
      "# of filters to prune for each layer: [ 6  0  6  0  6  0 18  0 18  0 18  0 18  0 18  0  6  0]\n"
     ]
    },
    {
     "name": "stderr",
     "output_type": "stream",
     "text": [
      "  0%|                                                | 0/100 [00:00<?, ?batch/s][W ParallelNative.cpp:212] Warning: Cannot set number of intraop threads after parallel work has started or after set_num_threads call when using native parallel backend (function set_num_threads)\n",
      "[W ParallelNative.cpp:212] Warning: Cannot set number of intraop threads after parallel work has started or after set_num_threads call when using native parallel backend (function set_num_threads)\n",
      "100%|█████████████| 100/100 [00:22<00:00,  4.41batch/s, accuracy=0.1, loss=3.14]\n"
     ]
    },
    {
     "name": "stdout",
     "output_type": "stream",
     "text": [
      "# of filters to prune for each layer: [ 7  0  7  0  7  0 21  0 21  0 21  0 21  0 21  0  7  0]\n"
     ]
    },
    {
     "name": "stderr",
     "output_type": "stream",
     "text": [
      "  0%|                                                | 0/100 [00:00<?, ?batch/s][W ParallelNative.cpp:212] Warning: Cannot set number of intraop threads after parallel work has started or after set_num_threads call when using native parallel backend (function set_num_threads)\n",
      "[W ParallelNative.cpp:212] Warning: Cannot set number of intraop threads after parallel work has started or after set_num_threads call when using native parallel backend (function set_num_threads)\n",
      "100%|█████████████| 100/100 [00:22<00:00,  4.43batch/s, accuracy=0.1, loss=3.19]\n"
     ]
    },
    {
     "name": "stdout",
     "output_type": "stream",
     "text": [
      "# of filters to prune for each layer: [ 8  0  8  0  8  0 24  0 24  0 24  0 24  0 24  0  8  0]\n"
     ]
    },
    {
     "name": "stderr",
     "output_type": "stream",
     "text": [
      "  0%|                                                | 0/100 [00:00<?, ?batch/s][W ParallelNative.cpp:212] Warning: Cannot set number of intraop threads after parallel work has started or after set_num_threads call when using native parallel backend (function set_num_threads)\n",
      "[W ParallelNative.cpp:212] Warning: Cannot set number of intraop threads after parallel work has started or after set_num_threads call when using native parallel backend (function set_num_threads)\n",
      "100%|█████████████| 100/100 [00:24<00:00,  4.15batch/s, accuracy=0.1, loss=3.13]\n"
     ]
    },
    {
     "name": "stdout",
     "output_type": "stream",
     "text": [
      "# of filters to prune for each layer: [ 9  0  9  0  9  0 27  0 27  0 27  0 27  0 27  0  9  0]\n"
     ]
    },
    {
     "name": "stderr",
     "output_type": "stream",
     "text": [
      "  0%|                                                | 0/100 [00:00<?, ?batch/s][W ParallelNative.cpp:212] Warning: Cannot set number of intraop threads after parallel work has started or after set_num_threads call when using native parallel backend (function set_num_threads)\n",
      "[W ParallelNative.cpp:212] Warning: Cannot set number of intraop threads after parallel work has started or after set_num_threads call when using native parallel backend (function set_num_threads)\n",
      "100%|████████████████| 100/100 [00:27<00:00,  3.66batch/s, accuracy=0.1, loss=3]\n"
     ]
    }
   ],
   "source": [
    "results = pd.DataFrame(columns=[\"number_pruned_params\", \"accuracy\"])\n",
    "amount_to_prun = np.array([1, 0] * 9)\n",
    "\n",
    "for i in range(10):\n",
    "    arr = amount_to_prun * i\n",
    "    arr[6:15] = arr[6:15] * 3\n",
    "    print(\"# of filters to prune for each layer:\", arr)\n",
    "    \n",
    "    results.loc[len(results)] = run_experiment(net, arr, i)"
   ]
  },
  {
   "cell_type": "code",
   "execution_count": 73,
   "metadata": {},
   "outputs": [
    {
     "data": {
      "text/html": [
       "<div>\n",
       "<style scoped>\n",
       "    .dataframe tbody tr th:only-of-type {\n",
       "        vertical-align: middle;\n",
       "    }\n",
       "\n",
       "    .dataframe tbody tr th {\n",
       "        vertical-align: top;\n",
       "    }\n",
       "\n",
       "    .dataframe thead th {\n",
       "        text-align: right;\n",
       "    }\n",
       "</style>\n",
       "<table border=\"1\" class=\"dataframe\">\n",
       "  <thead>\n",
       "    <tr style=\"text-align: right;\">\n",
       "      <th></th>\n",
       "      <th>number_pruned_params</th>\n",
       "      <th>accuracy</th>\n",
       "      <th>perc_pruned_params</th>\n",
       "    </tr>\n",
       "  </thead>\n",
       "  <tbody>\n",
       "    <tr>\n",
       "      <th>0</th>\n",
       "      <td>0.0</td>\n",
       "      <td>0.9292</td>\n",
       "      <td>0.000000</td>\n",
       "    </tr>\n",
       "    <tr>\n",
       "      <th>1</th>\n",
       "      <td>5760.0</td>\n",
       "      <td>0.4247</td>\n",
       "      <td>0.021355</td>\n",
       "    </tr>\n",
       "    <tr>\n",
       "      <th>2</th>\n",
       "      <td>11520.0</td>\n",
       "      <td>0.4664</td>\n",
       "      <td>0.042711</td>\n",
       "    </tr>\n",
       "    <tr>\n",
       "      <th>3</th>\n",
       "      <td>17280.0</td>\n",
       "      <td>0.1015</td>\n",
       "      <td>0.064066</td>\n",
       "    </tr>\n",
       "    <tr>\n",
       "      <th>4</th>\n",
       "      <td>23040.0</td>\n",
       "      <td>0.1002</td>\n",
       "      <td>0.085421</td>\n",
       "    </tr>\n",
       "    <tr>\n",
       "      <th>5</th>\n",
       "      <td>28800.0</td>\n",
       "      <td>0.1002</td>\n",
       "      <td>0.106777</td>\n",
       "    </tr>\n",
       "    <tr>\n",
       "      <th>6</th>\n",
       "      <td>34560.0</td>\n",
       "      <td>0.1000</td>\n",
       "      <td>0.128132</td>\n",
       "    </tr>\n",
       "    <tr>\n",
       "      <th>7</th>\n",
       "      <td>40320.0</td>\n",
       "      <td>0.1000</td>\n",
       "      <td>0.149487</td>\n",
       "    </tr>\n",
       "    <tr>\n",
       "      <th>8</th>\n",
       "      <td>46080.0</td>\n",
       "      <td>0.1000</td>\n",
       "      <td>0.170843</td>\n",
       "    </tr>\n",
       "    <tr>\n",
       "      <th>9</th>\n",
       "      <td>51840.0</td>\n",
       "      <td>0.1000</td>\n",
       "      <td>0.192198</td>\n",
       "    </tr>\n",
       "  </tbody>\n",
       "</table>\n",
       "</div>"
      ],
      "text/plain": [
       "   number_pruned_params  accuracy  perc_pruned_params\n",
       "0                   0.0    0.9292            0.000000\n",
       "1                5760.0    0.4247            0.021355\n",
       "2               11520.0    0.4664            0.042711\n",
       "3               17280.0    0.1015            0.064066\n",
       "4               23040.0    0.1002            0.085421\n",
       "5               28800.0    0.1002            0.106777\n",
       "6               34560.0    0.1000            0.128132\n",
       "7               40320.0    0.1000            0.149487\n",
       "8               46080.0    0.1000            0.170843\n",
       "9               51840.0    0.1000            0.192198"
      ]
     },
     "execution_count": 73,
     "metadata": {},
     "output_type": "execute_result"
    },
    {
     "data": {
      "image/png": "[encoded data removed]",
      "text/plain": [
       "<Figure size 432x288 with 1 Axes>"
      ]
     },
     "metadata": {
      "needs_background": "light"
     },
     "output_type": "display_data"
    }
   ],
   "source": [
    "show_results(results)"
   ]
  },
  {
   "cell_type": "markdown",
   "metadata": {},
   "source": [
    "**Удаление весов только из последнего conv2d-слоя в каждом resnet-блоке** приводит к самому медленному снижению точности среди всех проведенных экспериментов"
   ]
  },
  {
   "cell_type": "markdown",
   "metadata": {},
   "source": [
    "### Compare with other methods\n",
    "\n",
    "Для сравнения можно посмотреть, какие результаты дает прунинг с использованием других методов, в частности уже реализованных в pytorch"
   ]
  },
  {
   "cell_type": "code",
   "execution_count": 74,
   "metadata": {},
   "outputs": [],
   "source": [
    "def prune_net(net, amount, i):\n",
    "    num_pruned_params = 0\n",
    "    convl = 0 #index needed to use amount array\n",
    "    \n",
    "    for name, module in net.named_modules():\n",
    "        if isinstance(module, torch.nn.Conv2d) and ('layer' in name):\n",
    "\n",
    "            #prune using torch built-in method\n",
    "            prune.l1_unstructured(module, \"weight\", amount=amount[convl])\n",
    "        \n",
    "            num_pruned_params += (len(module.weight.flatten()) - \n",
    "                                  len(module.weight_mask.flatten().nonzero()))            \n",
    "            convl += 1\n",
    "\n",
    "    return num_pruned_params"
   ]
  },
  {
   "cell_type": "code",
   "execution_count": 84,
   "metadata": {
    "scrolled": true
   },
   "outputs": [
    {
     "name": "stdout",
     "output_type": "stream",
     "text": [
      "# of filters to prune for each layer: [0. 0. 0. 0. 0. 0. 0. 0. 0. 0. 0. 0. 0. 0. 0. 0. 0. 0.]\n"
     ]
    },
    {
     "name": "stderr",
     "output_type": "stream",
     "text": [
      "  0%|                                                | 0/100 [00:00<?, ?batch/s][W ParallelNative.cpp:212] Warning: Cannot set number of intraop threads after parallel work has started or after set_num_threads call when using native parallel backend (function set_num_threads)\n",
      "[W ParallelNative.cpp:212] Warning: Cannot set number of intraop threads after parallel work has started or after set_num_threads call when using native parallel backend (function set_num_threads)\n",
      "100%|██████████| 100/100 [00:26<00:00,  3.81batch/s, accuracy=0.929, loss=0.265]\n"
     ]
    },
    {
     "name": "stdout",
     "output_type": "stream",
     "text": [
      "# of filters to prune for each layer: [0.   0.03 0.   0.03 0.   0.03 0.   0.09 0.   0.09 0.   0.09 0.   0.09\n",
      " 0.   0.03 0.   0.03]\n"
     ]
    },
    {
     "name": "stderr",
     "output_type": "stream",
     "text": [
      "  0%|                                                | 0/100 [00:00<?, ?batch/s][W ParallelNative.cpp:212] Warning: Cannot set number of intraop threads after parallel work has started or after set_num_threads call when using native parallel backend (function set_num_threads)\n",
      "[W ParallelNative.cpp:212] Warning: Cannot set number of intraop threads after parallel work has started or after set_num_threads call when using native parallel backend (function set_num_threads)\n",
      "100%|██████████| 100/100 [00:24<00:00,  4.10batch/s, accuracy=0.929, loss=0.265]\n"
     ]
    },
    {
     "name": "stdout",
     "output_type": "stream",
     "text": [
      "# of filters to prune for each layer: [0.   0.06 0.   0.06 0.   0.06 0.   0.18 0.   0.18 0.   0.18 0.   0.18\n",
      " 0.   0.06 0.   0.06]\n"
     ]
    },
    {
     "name": "stderr",
     "output_type": "stream",
     "text": [
      "  0%|                                                | 0/100 [00:00<?, ?batch/s][W ParallelNative.cpp:212] Warning: Cannot set number of intraop threads after parallel work has started or after set_num_threads call when using native parallel backend (function set_num_threads)\n",
      "[W ParallelNative.cpp:212] Warning: Cannot set number of intraop threads after parallel work has started or after set_num_threads call when using native parallel backend (function set_num_threads)\n",
      "100%|██████████| 100/100 [00:25<00:00,  3.94batch/s, accuracy=0.928, loss=0.265]\n"
     ]
    },
    {
     "name": "stdout",
     "output_type": "stream",
     "text": [
      "# of filters to prune for each layer: [0.   0.09 0.   0.09 0.   0.09 0.   0.27 0.   0.27 0.   0.27 0.   0.27\n",
      " 0.   0.09 0.   0.09]\n"
     ]
    },
    {
     "name": "stderr",
     "output_type": "stream",
     "text": [
      "  0%|                                                | 0/100 [00:00<?, ?batch/s][W ParallelNative.cpp:212] Warning: Cannot set number of intraop threads after parallel work has started or after set_num_threads call when using native parallel backend (function set_num_threads)\n",
      "[W ParallelNative.cpp:212] Warning: Cannot set number of intraop threads after parallel work has started or after set_num_threads call when using native parallel backend (function set_num_threads)\n",
      "100%|██████████| 100/100 [00:25<00:00,  3.88batch/s, accuracy=0.927, loss=0.269]\n"
     ]
    },
    {
     "name": "stdout",
     "output_type": "stream",
     "text": [
      "# of filters to prune for each layer: [0.   0.12 0.   0.12 0.   0.12 0.   0.36 0.   0.36 0.   0.36 0.   0.36\n",
      " 0.   0.12 0.   0.12]\n"
     ]
    },
    {
     "name": "stderr",
     "output_type": "stream",
     "text": [
      "  0%|                                                | 0/100 [00:00<?, ?batch/s][W ParallelNative.cpp:212] Warning: Cannot set number of intraop threads after parallel work has started or after set_num_threads call when using native parallel backend (function set_num_threads)\n",
      "[W ParallelNative.cpp:212] Warning: Cannot set number of intraop threads after parallel work has started or after set_num_threads call when using native parallel backend (function set_num_threads)\n",
      "100%|██████████| 100/100 [00:23<00:00,  4.30batch/s, accuracy=0.925, loss=0.278]\n"
     ]
    },
    {
     "name": "stdout",
     "output_type": "stream",
     "text": [
      "# of filters to prune for each layer: [0.   0.15 0.   0.15 0.   0.15 0.   0.45 0.   0.45 0.   0.45 0.   0.45\n",
      " 0.   0.15 0.   0.15]\n"
     ]
    },
    {
     "name": "stderr",
     "output_type": "stream",
     "text": [
      "  0%|                                                | 0/100 [00:00<?, ?batch/s][W ParallelNative.cpp:212] Warning: Cannot set number of intraop threads after parallel work has started or after set_num_threads call when using native parallel backend (function set_num_threads)\n",
      "[W ParallelNative.cpp:212] Warning: Cannot set number of intraop threads after parallel work has started or after set_num_threads call when using native parallel backend (function set_num_threads)\n",
      "100%|██████████| 100/100 [00:23<00:00,  4.20batch/s, accuracy=0.923, loss=0.298]\n"
     ]
    },
    {
     "name": "stdout",
     "output_type": "stream",
     "text": [
      "# of filters to prune for each layer: [0.   0.18 0.   0.18 0.   0.18 0.   0.54 0.   0.54 0.   0.54 0.   0.54\n",
      " 0.   0.18 0.   0.18]\n"
     ]
    },
    {
     "name": "stderr",
     "output_type": "stream",
     "text": [
      "  0%|                                                | 0/100 [00:00<?, ?batch/s][W ParallelNative.cpp:212] Warning: Cannot set number of intraop threads after parallel work has started or after set_num_threads call when using native parallel backend (function set_num_threads)\n",
      "[W ParallelNative.cpp:212] Warning: Cannot set number of intraop threads after parallel work has started or after set_num_threads call when using native parallel backend (function set_num_threads)\n",
      "100%|██████████| 100/100 [00:26<00:00,  3.82batch/s, accuracy=0.918, loss=0.323]\n"
     ]
    },
    {
     "name": "stdout",
     "output_type": "stream",
     "text": [
      "# of filters to prune for each layer: [0.   0.21 0.   0.21 0.   0.21 0.   0.63 0.   0.63 0.   0.63 0.   0.63\n",
      " 0.   0.21 0.   0.21]\n"
     ]
    },
    {
     "name": "stderr",
     "output_type": "stream",
     "text": [
      "  0%|                                                | 0/100 [00:00<?, ?batch/s][W ParallelNative.cpp:212] Warning: Cannot set number of intraop threads after parallel work has started or after set_num_threads call when using native parallel backend (function set_num_threads)\n",
      "[W ParallelNative.cpp:212] Warning: Cannot set number of intraop threads after parallel work has started or after set_num_threads call when using native parallel backend (function set_num_threads)\n",
      "100%|██████████| 100/100 [00:23<00:00,  4.20batch/s, accuracy=0.905, loss=0.375]\n"
     ]
    },
    {
     "name": "stdout",
     "output_type": "stream",
     "text": [
      "# of filters to prune for each layer: [0.   0.24 0.   0.24 0.   0.24 0.   0.72 0.   0.72 0.   0.72 0.   0.72\n",
      " 0.   0.24 0.   0.24]\n"
     ]
    },
    {
     "name": "stderr",
     "output_type": "stream",
     "text": [
      "  0%|                                                | 0/100 [00:00<?, ?batch/s][W ParallelNative.cpp:212] Warning: Cannot set number of intraop threads after parallel work has started or after set_num_threads call when using native parallel backend (function set_num_threads)\n",
      "[W ParallelNative.cpp:212] Warning: Cannot set number of intraop threads after parallel work has started or after set_num_threads call when using native parallel backend (function set_num_threads)\n",
      "100%|██████████| 100/100 [00:23<00:00,  4.25batch/s, accuracy=0.884, loss=0.486]\n"
     ]
    },
    {
     "name": "stdout",
     "output_type": "stream",
     "text": [
      "# of filters to prune for each layer: [0.   0.27 0.   0.27 0.   0.27 0.   0.81 0.   0.81 0.   0.81 0.   0.81\n",
      " 0.   0.27 0.   0.27]\n"
     ]
    },
    {
     "name": "stderr",
     "output_type": "stream",
     "text": [
      "  0%|                                                | 0/100 [00:00<?, ?batch/s][W ParallelNative.cpp:212] Warning: Cannot set number of intraop threads after parallel work has started or after set_num_threads call when using native parallel backend (function set_num_threads)\n",
      "[W ParallelNative.cpp:212] Warning: Cannot set number of intraop threads after parallel work has started or after set_num_threads call when using native parallel backend (function set_num_threads)\n",
      "100%|██████████| 100/100 [00:25<00:00,  3.95batch/s, accuracy=0.799, loss=0.902]\n"
     ]
    }
   ],
   "source": [
    "results = pd.DataFrame(columns=[\"number_pruned_params\", \"accuracy\"])\n",
    "amount_to_prun = np.array([0, 0.03] * 9)\n",
    "\n",
    "for i in range(10):\n",
    "    arr = amount_to_prun * i\n",
    "    arr[7:15] = arr[7:15] * 3\n",
    "    print(\"# of filters to prune for each layer:\", arr)\n",
    "    \n",
    "    results.loc[len(results)] = run_experiment(net, arr, i)"
   ]
  },
  {
   "cell_type": "code",
   "execution_count": 85,
   "metadata": {},
   "outputs": [
    {
     "data": {
      "text/html": [
       "<div>\n",
       "<style scoped>\n",
       "    .dataframe tbody tr th:only-of-type {\n",
       "        vertical-align: middle;\n",
       "    }\n",
       "\n",
       "    .dataframe tbody tr th {\n",
       "        vertical-align: top;\n",
       "    }\n",
       "\n",
       "    .dataframe thead th {\n",
       "        text-align: right;\n",
       "    }\n",
       "</style>\n",
       "<table border=\"1\" class=\"dataframe\">\n",
       "  <thead>\n",
       "    <tr style=\"text-align: right;\">\n",
       "      <th></th>\n",
       "      <th>number_pruned_params</th>\n",
       "      <th>accuracy</th>\n",
       "      <th>perc_pruned_params</th>\n",
       "    </tr>\n",
       "  </thead>\n",
       "  <tbody>\n",
       "    <tr>\n",
       "      <th>0</th>\n",
       "      <td>0.0</td>\n",
       "      <td>0.9292</td>\n",
       "      <td>0.000000</td>\n",
       "    </tr>\n",
       "    <tr>\n",
       "      <th>1</th>\n",
       "      <td>8224.0</td>\n",
       "      <td>0.9292</td>\n",
       "      <td>0.030491</td>\n",
       "    </tr>\n",
       "    <tr>\n",
       "      <th>2</th>\n",
       "      <td>16451.0</td>\n",
       "      <td>0.9285</td>\n",
       "      <td>0.060992</td>\n",
       "    </tr>\n",
       "    <tr>\n",
       "      <th>3</th>\n",
       "      <td>24674.0</td>\n",
       "      <td>0.9275</td>\n",
       "      <td>0.091479</td>\n",
       "    </tr>\n",
       "    <tr>\n",
       "      <th>4</th>\n",
       "      <td>32901.0</td>\n",
       "      <td>0.9252</td>\n",
       "      <td>0.121981</td>\n",
       "    </tr>\n",
       "    <tr>\n",
       "      <th>5</th>\n",
       "      <td>41128.0</td>\n",
       "      <td>0.9234</td>\n",
       "      <td>0.152483</td>\n",
       "    </tr>\n",
       "    <tr>\n",
       "      <th>6</th>\n",
       "      <td>49355.0</td>\n",
       "      <td>0.9179</td>\n",
       "      <td>0.182985</td>\n",
       "    </tr>\n",
       "    <tr>\n",
       "      <th>7</th>\n",
       "      <td>57576.0</td>\n",
       "      <td>0.9053</td>\n",
       "      <td>0.213464</td>\n",
       "    </tr>\n",
       "    <tr>\n",
       "      <th>8</th>\n",
       "      <td>65803.0</td>\n",
       "      <td>0.8836</td>\n",
       "      <td>0.243966</td>\n",
       "    </tr>\n",
       "    <tr>\n",
       "      <th>9</th>\n",
       "      <td>74027.0</td>\n",
       "      <td>0.7986</td>\n",
       "      <td>0.274457</td>\n",
       "    </tr>\n",
       "  </tbody>\n",
       "</table>\n",
       "</div>"
      ],
      "text/plain": [
       "   number_pruned_params  accuracy  perc_pruned_params\n",
       "0                   0.0    0.9292            0.000000\n",
       "1                8224.0    0.9292            0.030491\n",
       "2               16451.0    0.9285            0.060992\n",
       "3               24674.0    0.9275            0.091479\n",
       "4               32901.0    0.9252            0.121981\n",
       "5               41128.0    0.9234            0.152483\n",
       "6               49355.0    0.9179            0.182985\n",
       "7               57576.0    0.9053            0.213464\n",
       "8               65803.0    0.8836            0.243966\n",
       "9               74027.0    0.7986            0.274457"
      ]
     },
     "execution_count": 85,
     "metadata": {},
     "output_type": "execute_result"
    },
    {
     "data": {
      "image/png": "[encoded data removed]",
      "text/plain": [
       "<Figure size 432x288 with 1 Axes>"
      ]
     },
     "metadata": {
      "needs_background": "light"
     },
     "output_type": "display_data"
    }
   ],
   "source": [
    "show_results(results)"
   ]
  },
  {
   "cell_type": "code",
   "execution_count": 107,
   "metadata": {},
   "outputs": [],
   "source": [
    "def prune_net(net, amount, i):\n",
    "    num_pruned_params = 0\n",
    "    convl = 0 #index needed to use amount array\n",
    "    \n",
    "    for name, module in net.named_modules():\n",
    "        if isinstance(module, torch.nn.Conv2d) and ('layer' in name):\n",
    "\n",
    "            #prune using torch built-in method\n",
    "            prune.ln_structured(module, \"weight\", amount=amount[convl], \n",
    "                                dim=0, n=2)\n",
    "        \n",
    "            num_pruned_params += (len(module.weight.flatten()) - \n",
    "                                  len(module.weight_mask.flatten().nonzero()))            \n",
    "            convl += 1\n",
    "\n",
    "    return num_pruned_params"
   ]
  },
  {
   "cell_type": "code",
   "execution_count": 108,
   "metadata": {
    "scrolled": true
   },
   "outputs": [
    {
     "name": "stdout",
     "output_type": "stream",
     "text": [
      "# of filters to prune for each layer: [0. 0. 0. 0. 0. 0. 0. 0. 0. 0. 0. 0. 0. 0. 0. 0. 0. 0.]\n"
     ]
    },
    {
     "name": "stderr",
     "output_type": "stream",
     "text": [
      "  0%|                                                | 0/100 [00:00<?, ?batch/s][W ParallelNative.cpp:212] Warning: Cannot set number of intraop threads after parallel work has started or after set_num_threads call when using native parallel backend (function set_num_threads)\n",
      "[W ParallelNative.cpp:212] Warning: Cannot set number of intraop threads after parallel work has started or after set_num_threads call when using native parallel backend (function set_num_threads)\n",
      "100%|██████████| 100/100 [00:25<00:00,  3.93batch/s, accuracy=0.929, loss=0.265]\n"
     ]
    },
    {
     "name": "stdout",
     "output_type": "stream",
     "text": [
      "# of filters to prune for each layer: [0.   0.03 0.   0.03 0.   0.03 0.   0.09 0.   0.09 0.   0.09 0.   0.09\n",
      " 0.   0.03 0.   0.03]\n"
     ]
    },
    {
     "name": "stderr",
     "output_type": "stream",
     "text": [
      "  0%|                                                | 0/100 [00:00<?, ?batch/s][W ParallelNative.cpp:212] Warning: Cannot set number of intraop threads after parallel work has started or after set_num_threads call when using native parallel backend (function set_num_threads)\n",
      "[W ParallelNative.cpp:212] Warning: Cannot set number of intraop threads after parallel work has started or after set_num_threads call when using native parallel backend (function set_num_threads)\n",
      "100%|██████████| 100/100 [00:29<00:00,  3.36batch/s, accuracy=0.917, loss=0.321]\n"
     ]
    },
    {
     "name": "stdout",
     "output_type": "stream",
     "text": [
      "# of filters to prune for each layer: [0.   0.06 0.   0.06 0.   0.06 0.   0.18 0.   0.18 0.   0.18 0.   0.18\n",
      " 0.   0.06 0.   0.06]\n"
     ]
    },
    {
     "name": "stderr",
     "output_type": "stream",
     "text": [
      "  0%|                                                | 0/100 [00:00<?, ?batch/s][W ParallelNative.cpp:212] Warning: Cannot set number of intraop threads after parallel work has started or after set_num_threads call when using native parallel backend (function set_num_threads)\n",
      "[W ParallelNative.cpp:212] Warning: Cannot set number of intraop threads after parallel work has started or after set_num_threads call when using native parallel backend (function set_num_threads)\n",
      "100%|██████████| 100/100 [00:31<00:00,  3.14batch/s, accuracy=0.888, loss=0.459]\n"
     ]
    },
    {
     "name": "stdout",
     "output_type": "stream",
     "text": [
      "# of filters to prune for each layer: [0.   0.09 0.   0.09 0.   0.09 0.   0.27 0.   0.27 0.   0.27 0.   0.27\n",
      " 0.   0.09 0.   0.09]\n"
     ]
    },
    {
     "name": "stderr",
     "output_type": "stream",
     "text": [
      "  0%|                                                | 0/100 [00:00<?, ?batch/s][W ParallelNative.cpp:212] Warning: Cannot set number of intraop threads after parallel work has started or after set_num_threads call when using native parallel backend (function set_num_threads)\n",
      "[W ParallelNative.cpp:212] Warning: Cannot set number of intraop threads after parallel work has started or after set_num_threads call when using native parallel backend (function set_num_threads)\n",
      "100%|██████████| 100/100 [00:31<00:00,  3.21batch/s, accuracy=0.829, loss=0.798]\n"
     ]
    },
    {
     "name": "stdout",
     "output_type": "stream",
     "text": [
      "# of filters to prune for each layer: [0.   0.12 0.   0.12 0.   0.12 0.   0.36 0.   0.36 0.   0.36 0.   0.36\n",
      " 0.   0.12 0.   0.12]\n"
     ]
    },
    {
     "name": "stderr",
     "output_type": "stream",
     "text": [
      "  0%|                                                | 0/100 [00:00<?, ?batch/s][W ParallelNative.cpp:212] Warning: Cannot set number of intraop threads after parallel work has started or after set_num_threads call when using native parallel backend (function set_num_threads)\n",
      "[W ParallelNative.cpp:212] Warning: Cannot set number of intraop threads after parallel work has started or after set_num_threads call when using native parallel backend (function set_num_threads)\n",
      "100%|███████████| 100/100 [00:25<00:00,  3.90batch/s, accuracy=0.637, loss=2.31]\n"
     ]
    },
    {
     "name": "stdout",
     "output_type": "stream",
     "text": [
      "# of filters to prune for each layer: [0.   0.15 0.   0.15 0.   0.15 0.   0.45 0.   0.45 0.   0.45 0.   0.45\n",
      " 0.   0.15 0.   0.15]\n"
     ]
    },
    {
     "name": "stderr",
     "output_type": "stream",
     "text": [
      "  0%|                                                | 0/100 [00:00<?, ?batch/s][W ParallelNative.cpp:212] Warning: Cannot set number of intraop threads after parallel work has started or after set_num_threads call when using native parallel backend (function set_num_threads)\n",
      "[W ParallelNative.cpp:212] Warning: Cannot set number of intraop threads after parallel work has started or after set_num_threads call when using native parallel backend (function set_num_threads)\n",
      "100%|████████████| 100/100 [00:23<00:00,  4.33batch/s, accuracy=0.535, loss=3.5]\n"
     ]
    },
    {
     "name": "stdout",
     "output_type": "stream",
     "text": [
      "# of filters to prune for each layer: [0.   0.18 0.   0.18 0.   0.18 0.   0.54 0.   0.54 0.   0.54 0.   0.54\n",
      " 0.   0.18 0.   0.18]\n"
     ]
    },
    {
     "name": "stderr",
     "output_type": "stream",
     "text": [
      "  0%|                                                | 0/100 [00:00<?, ?batch/s][W ParallelNative.cpp:212] Warning: Cannot set number of intraop threads after parallel work has started or after set_num_threads call when using native parallel backend (function set_num_threads)\n",
      "[W ParallelNative.cpp:212] Warning: Cannot set number of intraop threads after parallel work has started or after set_num_threads call when using native parallel backend (function set_num_threads)\n",
      "100%|███████████| 100/100 [00:25<00:00,  3.94batch/s, accuracy=0.438, loss=5.14]\n"
     ]
    },
    {
     "name": "stdout",
     "output_type": "stream",
     "text": [
      "# of filters to prune for each layer: [0.   0.21 0.   0.21 0.   0.21 0.   0.63 0.   0.63 0.   0.63 0.   0.63\n",
      " 0.   0.21 0.   0.21]\n"
     ]
    },
    {
     "name": "stderr",
     "output_type": "stream",
     "text": [
      "  0%|                                                | 0/100 [00:00<?, ?batch/s][W ParallelNative.cpp:212] Warning: Cannot set number of intraop threads after parallel work has started or after set_num_threads call when using native parallel backend (function set_num_threads)\n",
      "[W ParallelNative.cpp:212] Warning: Cannot set number of intraop threads after parallel work has started or after set_num_threads call when using native parallel backend (function set_num_threads)\n",
      "100%|███████████| 100/100 [00:23<00:00,  4.30batch/s, accuracy=0.394, loss=4.99]\n"
     ]
    },
    {
     "name": "stdout",
     "output_type": "stream",
     "text": [
      "# of filters to prune for each layer: [0.   0.24 0.   0.24 0.   0.24 0.   0.72 0.   0.72 0.   0.72 0.   0.72\n",
      " 0.   0.24 0.   0.24]\n"
     ]
    },
    {
     "name": "stderr",
     "output_type": "stream",
     "text": [
      "  0%|                                                | 0/100 [00:00<?, ?batch/s][W ParallelNative.cpp:212] Warning: Cannot set number of intraop threads after parallel work has started or after set_num_threads call when using native parallel backend (function set_num_threads)\n",
      "[W ParallelNative.cpp:212] Warning: Cannot set number of intraop threads after parallel work has started or after set_num_threads call when using native parallel backend (function set_num_threads)\n",
      "100%|███████████| 100/100 [00:24<00:00,  4.13batch/s, accuracy=0.195, loss=7.62]\n"
     ]
    },
    {
     "name": "stdout",
     "output_type": "stream",
     "text": [
      "# of filters to prune for each layer: [0.   0.27 0.   0.27 0.   0.27 0.   0.81 0.   0.81 0.   0.81 0.   0.81\n",
      " 0.   0.27 0.   0.27]\n"
     ]
    },
    {
     "name": "stderr",
     "output_type": "stream",
     "text": [
      "  0%|                                                | 0/100 [00:00<?, ?batch/s][W ParallelNative.cpp:212] Warning: Cannot set number of intraop threads after parallel work has started or after set_num_threads call when using native parallel backend (function set_num_threads)\n",
      "[W ParallelNative.cpp:212] Warning: Cannot set number of intraop threads after parallel work has started or after set_num_threads call when using native parallel backend (function set_num_threads)\n",
      "100%|███████████| 100/100 [00:24<00:00,  4.13batch/s, accuracy=0.112, loss=10.4]\n"
     ]
    }
   ],
   "source": [
    "results = pd.DataFrame(columns=[\"number_pruned_params\", \"accuracy\"])\n",
    "amount_to_prun = np.array([0, 0.03] * 9)\n",
    "\n",
    "for i in range(10):\n",
    "    arr = amount_to_prun * i\n",
    "    arr[7:15] = arr[7:15] * 3\n",
    "    print(\"# of filters to prune for each layer:\", arr)\n",
    "    \n",
    "    results.loc[len(results)] = run_experiment(net, arr, i)"
   ]
  },
  {
   "cell_type": "code",
   "execution_count": 109,
   "metadata": {},
   "outputs": [
    {
     "data": {
      "text/html": [
       "<div>\n",
       "<style scoped>\n",
       "    .dataframe tbody tr th:only-of-type {\n",
       "        vertical-align: middle;\n",
       "    }\n",
       "\n",
       "    .dataframe tbody tr th {\n",
       "        vertical-align: top;\n",
       "    }\n",
       "\n",
       "    .dataframe thead th {\n",
       "        text-align: right;\n",
       "    }\n",
       "</style>\n",
       "<table border=\"1\" class=\"dataframe\">\n",
       "  <thead>\n",
       "    <tr style=\"text-align: right;\">\n",
       "      <th></th>\n",
       "      <th>number_pruned_params</th>\n",
       "      <th>accuracy</th>\n",
       "      <th>perc_pruned_params</th>\n",
       "    </tr>\n",
       "  </thead>\n",
       "  <tbody>\n",
       "    <tr>\n",
       "      <th>0</th>\n",
       "      <td>0.0</td>\n",
       "      <td>0.9292</td>\n",
       "      <td>0.000000</td>\n",
       "    </tr>\n",
       "    <tr>\n",
       "      <th>1</th>\n",
       "      <td>8352.0</td>\n",
       "      <td>0.9170</td>\n",
       "      <td>0.030965</td>\n",
       "    </tr>\n",
       "    <tr>\n",
       "      <th>2</th>\n",
       "      <td>17136.0</td>\n",
       "      <td>0.8883</td>\n",
       "      <td>0.063532</td>\n",
       "    </tr>\n",
       "    <tr>\n",
       "      <th>3</th>\n",
       "      <td>24912.0</td>\n",
       "      <td>0.8285</td>\n",
       "      <td>0.092362</td>\n",
       "    </tr>\n",
       "    <tr>\n",
       "      <th>4</th>\n",
       "      <td>33696.0</td>\n",
       "      <td>0.6372</td>\n",
       "      <td>0.124929</td>\n",
       "    </tr>\n",
       "    <tr>\n",
       "      <th>5</th>\n",
       "      <td>41184.0</td>\n",
       "      <td>0.5355</td>\n",
       "      <td>0.152691</td>\n",
       "    </tr>\n",
       "    <tr>\n",
       "      <th>6</th>\n",
       "      <td>49968.0</td>\n",
       "      <td>0.4379</td>\n",
       "      <td>0.185257</td>\n",
       "    </tr>\n",
       "    <tr>\n",
       "      <th>7</th>\n",
       "      <td>56592.0</td>\n",
       "      <td>0.3936</td>\n",
       "      <td>0.209816</td>\n",
       "    </tr>\n",
       "    <tr>\n",
       "      <th>8</th>\n",
       "      <td>65376.0</td>\n",
       "      <td>0.1950</td>\n",
       "      <td>0.242383</td>\n",
       "    </tr>\n",
       "    <tr>\n",
       "      <th>9</th>\n",
       "      <td>73728.0</td>\n",
       "      <td>0.1115</td>\n",
       "      <td>0.273348</td>\n",
       "    </tr>\n",
       "  </tbody>\n",
       "</table>\n",
       "</div>"
      ],
      "text/plain": [
       "   number_pruned_params  accuracy  perc_pruned_params\n",
       "0                   0.0    0.9292            0.000000\n",
       "1                8352.0    0.9170            0.030965\n",
       "2               17136.0    0.8883            0.063532\n",
       "3               24912.0    0.8285            0.092362\n",
       "4               33696.0    0.6372            0.124929\n",
       "5               41184.0    0.5355            0.152691\n",
       "6               49968.0    0.4379            0.185257\n",
       "7               56592.0    0.3936            0.209816\n",
       "8               65376.0    0.1950            0.242383\n",
       "9               73728.0    0.1115            0.273348"
      ]
     },
     "execution_count": 109,
     "metadata": {},
     "output_type": "execute_result"
    },
    {
     "data": {
      "image/png": "[encoded data removed]",
      "text/plain": [
       "<Figure size 432x288 with 1 Axes>"
      ]
     },
     "metadata": {
      "needs_background": "light"
     },
     "output_type": "display_data"
    }
   ],
   "source": [
    "show_results(results)"
   ]
  },
  {
   "cell_type": "markdown",
   "metadata": {},
   "source": [
    "## Выводы\n",
    "\n",
    "Пока в помощью структурированного кластеризационного прунинга не удалось добиться существенного снижения количества параметров при сохранении точности сети. \n",
    "Наилучшим из рассмотренных оказался подход с **удалением весов только из последнего conv2d-слоя в каждом resnet-блоке**, причем в средних блоках сети количество кластеров было меньше, чем в начальных и конечных \n",
    "\n",
    "\n",
    "Методы прунинга, реализованные в торче, дают более хороший результат (l-n-norm-structured и l1-norm-unstructured)\n",
    "\n",
    "Возможно, причина отчасти в небольшом количестве фильтров в каждом слое в resnet-20, что приводит к более грубой кластеризации\n",
    "\n",
    "\n",
    "## Дальнейшие шаги и идеи\n",
    "\n",
    "Важно понимать, какая цель исследования \n",
    "\n",
    "\n",
    "1. Если задача заключается в том, чтобы добиться улучшения перфоманса модели на таске, похожем на CIFAR-10\n",
    "\n",
    "    * Имеет смысл протестировать производительность модели, обрезанной с помощью показавших наилучший результат методов, в реальности, а не в теории. То есть замерять не количество параметров модели, а ее размер, потребление ресурсов, время инференса и проч., т.к. корреляция не обязательно прямая, особенно в случае неструктурированного прунинга\n",
    "    * Сравнить производительность и качество альтернативных архитектур на этом датасете - большего размера (имеющие больше параметров, а значит, бОльший потенциал для обрезки), а также более оптимизированные, которые возможно не потребуют прунинга\n",
    "\n",
    "\n",
    "2. Если задача заключается в том, чтобы изучить возможности прунинга на основе послойной кластеризации \n",
    "\n",
    "    * Провести тесты, добавив шаг дообучения модели после обрезки\n",
    "    * Рассмотреть другие кластеризационные алгоритмы\n",
    "    * Провести тесты на моделях бОльшего размера, где больше потенциально-неважных параметров\n",
    "    * Провести тесты на других датасетах\n"
   ]
  },
  {
   "cell_type": "markdown",
   "metadata": {},
   "source": []
  },
  {
   "cell_type": "code",
   "execution_count": null,
   "metadata": {},
   "outputs": [],
   "source": []
  },
  {
   "cell_type": "code",
   "execution_count": null,
   "metadata": {},
   "outputs": [],
   "source": []
  },
  {
   "cell_type": "code",
   "execution_count": null,
   "metadata": {
    "scrolled": true
   },
   "outputs": [],
   "source": []
  },
  {
   "cell_type": "code",
   "execution_count": null,
   "metadata": {},
   "outputs": [],
   "source": []
  },
  {
   "cell_type": "code",
   "execution_count": null,
   "metadata": {},
   "outputs": [],
   "source": []
  }
 ],
 "metadata": {
  "kernelspec": {
   "display_name": "resnet_cifar3",
   "language": "python",
   "name": "resnet_cifar3"
  },
  "language_info": {
   "codemirror_mode": {
    "name": "ipython",
    "version": 3
   },
   "file_extension": ".py",
   "mimetype": "text/x-python",
   "name": "python",
   "nbconvert_exporter": "python",
   "pygments_lexer": "ipython3",
   "version": "3.7.6"
  }
 },
 "nbformat": 4,
 "nbformat_minor": 4
}
